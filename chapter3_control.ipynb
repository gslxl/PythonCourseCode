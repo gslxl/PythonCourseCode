{
 "cells": [
  {
   "cell_type": "markdown",
   "metadata": {},
   "source": [
    "# Control Flow Tools"
   ]
  },
  {
   "cell_type": "markdown",
   "metadata": {},
   "source": [
    "## if控制"
   ]
  },
  {
   "cell_type": "markdown",
   "metadata": {},
   "source": [
    "</br>\n",
    "if 表达式1:\n",
    "<br/>\n",
    "</br>\n",
    "    语句\n",
    "<br/>\n",
    "</br>\n",
    "    if 表达式2:\n",
    "<br/>\n",
    "</br>\n",
    "    语句\n",
    "<br/>\n",
    "</br>\n",
    "    elif 表达式3:\n",
    "<br/>\n",
    "</br>\n",
    "        语句\n",
    "<br/>\n",
    "</br>\n",
    "    else:\n",
    "<br/>\n",
    "</br>\n",
    "        语句\n",
    "</br>\n",
    "<br/>\n",
    "elif 表达式4:\n",
    "<br/>\n",
    "</br>\n",
    "    语句\n",
    "<br/>\n",
    "</br>\n",
    "else:\n",
    "<br/>\n",
    "<br/>"
   ]
  },
  {
   "cell_type": "markdown",
   "metadata": {},
   "source": [
    "**注意：**\n",
    "<br>\n",
    "1、每个条件后面要使用冒号 :，表示接下来是满足条件后要执行的语句块。\n",
    "<br>\n",
    "2、使用缩进来划分语句块，相同缩进数的语句在一起组成一个语句块。 \n",
    "<br>\n",
    "3、在 Python 中没有 switch - case 语句。\n",
    "<br>"
   ]
  },
  {
   "cell_type": "markdown",
   "metadata": {},
   "source": [
    "##### 练习1\n",
    "> 如果输入的成绩在90分以上（含90分）输出A；   \n",
    "> 80分-90分（不含90分）输出B；  \n",
    "> 70分-80分（不含80分）输出C；  \n",
    "> 60分-70分（不含70分）输出D；60分以下输出E。  "
   ]
  },
  {
   "cell_type": "code",
   "execution_count": null,
   "metadata": {},
   "outputs": [],
   "source": [
    "#输入score\n",
    "score=int(input(\"请输入成绩：\"))\n",
    "#输出等级\n",
    "\n",
    "if score>=90:\n",
    "    print(\"A\")\n",
    "elif score>=80:\n",
    "    print(\"B\")\n",
    "elif score>=70:\n",
    "    print(\"C\")\n",
    "elif score>=60:\n",
    "    print(\"D\")\n",
    "else:\n",
    "    print(\"E\")\n",
    "    "
   ]
  },
  {
   "cell_type": "code",
   "execution_count": null,
   "metadata": {},
   "outputs": [],
   "source": [
    "#输入score\n",
    "score=int(input(\"请输入成绩：\"))\n",
    "#输出等级\n",
    "if score>=60:\n",
    "    print(\"D\")\n",
    "elif score>=70:\n",
    "    print(\"C\")\n",
    "elif score>=80:\n",
    "    print(\"B\")\n",
    "elif score>=90:\n",
    "    print(\"A\")\n",
    "else:\n",
    "    print(\"E\")"
   ]
  },
  {
   "cell_type": "markdown",
   "metadata": {},
   "source": [
    "## 三元运算符"
   ]
  },
  {
   "cell_type": "markdown",
   "metadata": {},
   "source": [
    "\n",
    "**<表达式1> if <条件> else <表达式2>**"
   ]
  },
  {
   "cell_type": "code",
   "execution_count": null,
   "metadata": {},
   "outputs": [],
   "source": [
    "a=int(input(\"a=\"))\n",
    "b=int(input(\"b=\"))\n",
    "\n",
    "a-b if a>=b else b-a"
   ]
  },
  {
   "cell_type": "markdown",
   "metadata": {},
   "source": [
    "## if 语句多个条件同时判断"
   ]
  },
  {
   "cell_type": "markdown",
   "metadata": {},
   "source": [
    "有时候我们会遇到多个条件的时候该怎么操作呢？\n",
    "\n",
    "比如说要求 java 和 python 的考试成绩要大于 80 分的时候才算优秀，这时候该怎么做？\n",
    "\n",
    "这时候我们可以结合 or 和 and 来使用。\n",
    "\n",
    "or （或）表示两个条件有一个成立时判断条件成功\n",
    "\n",
    "and （与）表示只有两个条件同时成立的情况下，判断条件才成功。"
   ]
  },
  {
   "cell_type": "code",
   "execution_count": null,
   "metadata": {},
   "outputs": [],
   "source": [
    "java = 86\n",
    "python = 68\n",
    "\n",
    "if java > 80 &  python > 80:\n",
    "    print('优秀')\n",
    "elif  ( java >= 80  & java < 90 )  | ( python >= 80 & python < 90):\n",
    "    print('良好')\n",
    "else :\n",
    "    print('不优秀')\n"
   ]
  },
  {
   "cell_type": "code",
   "execution_count": null,
   "metadata": {},
   "outputs": [],
   "source": [
    "##### 练习2\n",
    "输入三条边长，如果能构成三角形就计算周长和面积。\n",
    "三角形面积公式：p=(a+b+c)/2\n",
    "area = (p * (p - a) * (p - b) * (p - c)) ** 0.5"
   ]
  },
  {
   "cell_type": "code",
   "execution_count": null,
   "metadata": {},
   "outputs": [],
   "source": [
    "a = float(input('a = '))\n",
    "b = float(input('b = '))\n",
    "c = float(input('c = '))"
   ]
  },
  {
   "cell_type": "markdown",
   "metadata": {},
   "source": [
    "## for in 循环"
   ]
  },
  {
   "cell_type": "markdown",
   "metadata": {},
   "source": [
    "**如果明确的知道循环执行的次数或者要对一个容器进行迭代，那么我们推荐使用for-in循环**"
   ]
  },
  {
   "cell_type": "code",
   "execution_count": null,
   "metadata": {},
   "outputs": [],
   "source": [
    "#eg1.1~100求和"
   ]
  },
  {
   "cell_type": "code",
   "execution_count": null,
   "metadata": {},
   "outputs": [],
   "source": [
    "#eg2.1~100偶数求和\n",
    "#方法一\n",
    "sums=0\n",
    "for i in range(1,101):\n",
    "    if(i%2==0):\n",
    "        sums+=i\n",
    "print(sums)"
   ]
  },
  {
   "cell_type": "code",
   "execution_count": null,
   "metadata": {},
   "outputs": [],
   "source": [
    "#方法二\n",
    "sums=0\n",
    "for i in range(0,101,2):\n",
    "    sums+=i\n",
    "    #print(i)\n",
    "print(sums)"
   ]
  },
  {
   "cell_type": "markdown",
   "metadata": {},
   "source": [
    "## while 循环"
   ]
  },
  {
   "cell_type": "markdown",
   "metadata": {},
   "source": [
    "**如果要构造不知道具体循环次数的循环结构，我们推荐使用while循环。while循环通过一个能够产生或转换出bool值的表达式来控制循环，表达式的值为True则继续循环；表达式的值为False则结束循环。**"
   ]
  },
  {
   "cell_type": "markdown",
   "metadata": {},
   "source": [
    "while后面紧跟一个判断条件，若满足条件则会一直循环，直到不满足条件时退出。但这不是绝对的，如果while后的语句块内含有break，即便条件依然满足，但遇到break也会一样退出。\n",
    "\n",
    "如下检测输入是否为整数，直到输入整数时，执行break退出while循环：\n",
    "\n"
   ]
  },
  {
   "cell_type": "code",
   "execution_count": null,
   "metadata": {},
   "outputs": [],
   "source": [
    "while 1:\n",
    "    a = input('please input an Integer: ')\n",
    "    try:\n",
    "        ai = int(a)\n",
    "        print('输入了一个整数 %d ，input 结束' % (ai,))\n",
    "        break\n",
    "    except:\n",
    "        print(\"%s isn't a Integer\" % (a,))"
   ]
  },
  {
   "cell_type": "markdown",
   "metadata": {},
   "source": [
    "eg. 下面我们通过一个“猜数字”的小游戏来看看如何使用while循环。猜数字游戏的规则是：\n",
    "<br>\n",
    "计算机出一个1到100之间的随机数，玩家输入自己猜的数字，计算机给出对应的提示信息（大一点、小一点或猜对了），\n",
    "<br>\n",
    "如果玩家猜中了数字，计算机提示用户一共猜了多少次，游戏结束，否则游戏继续。"
   ]
  },
  {
   "cell_type": "code",
   "execution_count": null,
   "metadata": {},
   "outputs": [],
   "source": [
    "import random"
   ]
  },
  {
   "cell_type": "code",
   "execution_count": null,
   "metadata": {},
   "outputs": [],
   "source": [
    "input_rdm=random.randint(1,100)"
   ]
  },
  {
   "cell_type": "code",
   "execution_count": null,
   "metadata": {},
   "outputs": [],
   "source": [
    "print(input_rdm)"
   ]
  },
  {
   "cell_type": "code",
   "execution_count": null,
   "metadata": {},
   "outputs": [],
   "source": [
    "counts=0\n",
    "while True:\n",
    "    input_num=int(input(\"please enter an int: \"))\n",
    "    counts+=1\n",
    "    if input_num>input_rdm:\n",
    "        print(\"你已经猜了{}次，大了点\".format(counts))\n",
    "    elif input_num<input_rdm:\n",
    "        print(\"你已经猜了{}次，小了点\".format(counts))\n",
    "    else:\n",
    "        print(\"你已经猜了{}次，奥利给！！！！\".format(counts))\n",
    "        break\n",
    "\n"
   ]
  },
  {
   "cell_type": "code",
   "execution_count": null,
   "metadata": {},
   "outputs": [],
   "source": []
  },
  {
   "cell_type": "code",
   "execution_count": null,
   "metadata": {},
   "outputs": [],
   "source": [
    "in_num"
   ]
  },
  {
   "cell_type": "markdown",
   "metadata": {},
   "source": [
    "### break 终止当层循环"
   ]
  },
  {
   "cell_type": "code",
   "execution_count": null,
   "metadata": {},
   "outputs": [],
   "source": [
    "my_list = [1, 2, 3, 4, 'Python', 'is', 'neat']"
   ]
  },
  {
   "cell_type": "code",
   "execution_count": null,
   "metadata": {},
   "outputs": [],
   "source": [
    "for item in my_list:\n",
    "    if item == 'Python':\n",
    "        continue\n",
    "    print(item)"
   ]
  },
  {
   "cell_type": "markdown",
   "metadata": {},
   "source": [
    "### continue 终止本次循环"
   ]
  },
  {
   "cell_type": "code",
   "execution_count": null,
   "metadata": {},
   "outputs": [],
   "source": [
    "for item in my_list:\n",
    "    if item == 1:\n",
    "        continue\n",
    "    print(item)"
   ]
  },
  {
   "cell_type": "markdown",
   "metadata": {},
   "source": [
    "## 嵌套循环"
   ]
  },
  {
   "cell_type": "markdown",
   "metadata": {},
   "source": [
    "循环语句和条件语句一样，都是可以嵌套的。\n",
    "\n",
    "具体的语法如下："
   ]
  },
  {
   "cell_type": "markdown",
   "metadata": {},
   "source": [
    "**for 循环嵌套语法**"
   ]
  },
  {
   "cell_type": "code",
   "execution_count": null,
   "metadata": {},
   "outputs": [],
   "source": [
    "for iterating_var in sequence:  \n",
    "    for iterating_var in sequence:  \n",
    "        statements(s)  \n",
    "        statements(s)  "
   ]
  },
  {
   "cell_type": "markdown",
   "metadata": {},
   "source": [
    "当我们需要判断 sum 大于 1000 的时候，不再相加时，可以用到 break ，退出整个循环"
   ]
  },
  {
   "cell_type": "code",
   "execution_count": null,
   "metadata": {},
   "outputs": [],
   "source": [
    "count = 1\n",
    "sums = 0\n",
    "while (count <= 100):\n",
    "    sums = sums + count\n",
    "    if ( sums > 1000):  #当 sum 大于 1000 的时候退出循环\n",
    "        break\n",
    "    count = count + 1\n",
    "    print(sums)\n",
    "print(sums)"
   ]
  },
  {
   "cell_type": "code",
   "execution_count": null,
   "metadata": {},
   "outputs": [],
   "source": []
  }
 ],
 "metadata": {
  "kernelspec": {
   "display_name": "Python 3",
   "language": "python",
   "name": "python3"
  },
  "language_info": {
   "codemirror_mode": {
    "name": "ipython",
    "version": 3
   },
   "file_extension": ".py",
   "mimetype": "text/x-python",
   "name": "python",
   "nbconvert_exporter": "python",
   "pygments_lexer": "ipython3",
   "version": "3.7.4"
  },
  "toc": {
   "base_numbering": 1,
   "nav_menu": {},
   "number_sections": true,
   "sideBar": true,
   "skip_h1_title": false,
   "title_cell": "Table of Contents",
   "title_sidebar": "Contents",
   "toc_cell": false,
   "toc_position": {},
   "toc_section_display": true,
   "toc_window_display": false
  },
  "varInspector": {
   "cols": {
    "lenName": 16,
    "lenType": 16,
    "lenVar": 40
   },
   "kernels_config": {
    "python": {
     "delete_cmd_postfix": "",
     "delete_cmd_prefix": "del ",
     "library": "var_list.py",
     "varRefreshCmd": "print(var_dic_list())"
    },
    "r": {
     "delete_cmd_postfix": ") ",
     "delete_cmd_prefix": "rm(",
     "library": "var_list.r",
     "varRefreshCmd": "cat(var_dic_list()) "
    }
   },
   "types_to_exclude": [
    "module",
    "function",
    "builtin_function_or_method",
    "instance",
    "_Feature"
   ],
   "window_display": false
  }
 },
 "nbformat": 4,
 "nbformat_minor": 2
}
