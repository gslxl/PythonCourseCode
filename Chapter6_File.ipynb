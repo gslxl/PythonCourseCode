{
 "cells": [
  {
   "cell_type": "markdown",
   "metadata": {},
   "source": [
    "# Python文本操作\n",
    "1. 文本文件；\n",
    "2. CSV文件；\n",
    "3. json文件；"
   ]
  },
  {
   "cell_type": "markdown",
   "metadata": {},
   "source": [
    "## 读取普通文件"
   ]
  },
  {
   "cell_type": "markdown",
   "metadata": {},
   "source": [
    "在 Python 中，读写文件有 3 个步骤：\n",
    "\n",
    "（1）调用 open()函数，返回一个 File 对象。\n",
    "\n",
    "（2）调用 File 对象的 read()或 write()方法。\n",
    "\n",
    "（3）调用 File 对象的 close()方法，关闭该文件。"
   ]
  },
  {
   "cell_type": "markdown",
   "metadata": {},
   "source": [
    "open方法可以传递两个参数，第一个参数为文件路径，第二个参数为打开文件的方式，可选值为r/w/a/r+\n",
    "\n",
    "r   只读模式打开文件，如果为传递第二个参数，则默认为r\n",
    "\n",
    "w  写入模式打开文件\n",
    "\n",
    "a  附加模式打开文件\n",
    "\n",
    "r+ 读取和写入模式打开文件\n"
   ]
  },
  {
   "cell_type": "markdown",
   "metadata": {},
   "source": [
    "##### 写文件"
   ]
  },
  {
   "cell_type": "code",
   "execution_count": null,
   "metadata": {},
   "outputs": [],
   "source": [
    "f = open(\"../test_in_class_1.txt\",'w+')  #变量名=open（文件路径和文件名，打开模式） 模式：w:写，a:追加写\n",
    "f.write(\"hello\")\n",
    "f.write(\"\\npython\")\n",
    "f.write(\"\\nbigdata\")\n",
    "f.writelines(\"\\n大数据\")\n",
    "f.write(\"\\nsim\")\n",
    "for line in f:\n",
    "    print(line)\n",
    "f.close()"
   ]
  },
  {
   "cell_type": "code",
   "execution_count": null,
   "metadata": {},
   "outputs": [],
   "source": [
    "f = open(\"../test_in_class_1.txt\")  #变量名=open（文件路径和文件名，打开模式） 模式：w:写，a:追加写\n",
    "#print(f.readlines())\n",
    "for line in f.readlines():\n",
    "    print(line.strip())\n",
    "f.close()"
   ]
  },
  {
   "cell_type": "code",
   "execution_count": null,
   "metadata": {},
   "outputs": [],
   "source": [
    "!pwd"
   ]
  },
  {
   "cell_type": "code",
   "execution_count": null,
   "metadata": {},
   "outputs": [],
   "source": [
    "f=open(\"test.txt\",\"w+\",encoding=\"utf-8\")#追加模式\n",
    "f.write(\"大数据\")\n",
    "f.write(\"\\n2019\")\n",
    "f.close()"
   ]
  },
  {
   "cell_type": "markdown",
   "metadata": {},
   "source": [
    "##### 能否直接写一行？"
   ]
  },
  {
   "cell_type": "markdown",
   "metadata": {},
   "source": [
    "试试writelines？"
   ]
  },
  {
   "cell_type": "markdown",
   "metadata": {},
   "source": [
    "##### 读文件"
   ]
  },
  {
   "cell_type": "code",
   "execution_count": null,
   "metadata": {},
   "outputs": [],
   "source": [
    "f=open(\"words.txt\")\n",
    "word_list=f.readlines()\n",
    "for word in word_list:\n",
    "    print(word)"
   ]
  },
  {
   "cell_type": "code",
   "execution_count": null,
   "metadata": {},
   "outputs": [],
   "source": [
    "f=open(\"test.txt\")#open函数默认采用'rt'文本只读模式\n",
    "print(f.readlines())\n",
    "f.close()"
   ]
  },
  {
   "cell_type": "code",
   "execution_count": null,
   "metadata": {},
   "outputs": [],
   "source": [
    "fb=open(\"test.txt\",'rb')\n",
    "print(fb.readlines())\n",
    "fb.close()"
   ]
  },
  {
   "cell_type": "code",
   "execution_count": null,
   "metadata": {},
   "outputs": [],
   "source": [
    "fp=open(\"examples/stinkbug.png\",\"rb\")\n",
    "for line in fp:\n",
    "    print(line)"
   ]
  },
  {
   "cell_type": "code",
   "execution_count": null,
   "metadata": {},
   "outputs": [],
   "source": [
    "help(open)"
   ]
  },
  {
   "cell_type": "markdown",
   "metadata": {},
   "source": [
    "##### Python将文件本身作为一个行序列，可以遍历"
   ]
  },
  {
   "cell_type": "code",
   "execution_count": null,
   "metadata": {},
   "outputs": [],
   "source": [
    "f=open(\"words.txt\")\n",
    "for line in f:\n",
    "    print(line)\n",
    "f.close()"
   ]
  },
  {
   "cell_type": "markdown",
   "metadata": {},
   "source": [
    "##### f.readline()读取一行"
   ]
  },
  {
   "cell_type": "code",
   "execution_count": null,
   "metadata": {},
   "outputs": [],
   "source": [
    "f=open(\"words.txt\")\n",
    "for line in f.readlines():\n",
    "    print(line)\n",
    "f.close()"
   ]
  },
  {
   "cell_type": "markdown",
   "metadata": {},
   "source": [
    "##### 如果文件不存在则异常报错"
   ]
  },
  {
   "cell_type": "code",
   "execution_count": null,
   "metadata": {},
   "outputs": [],
   "source": [
    "f=open(\"my_words_www.txt\") "
   ]
  },
  {
   "cell_type": "markdown",
   "metadata": {},
   "source": [
    "**Python中的异常处理**"
   ]
  },
  {
   "cell_type": "markdown",
   "metadata": {},
   "source": [
    "当Python脚本发生异常时我们需要捕获处理它，否则程序会终止执行。\n",
    "\n",
    "捕捉异常可以使用try/except语句。\n",
    "\n",
    "try/except语句用来检测try语句块中的错误，从而让except语句捕获异常信息并处理。"
   ]
  },
  {
   "cell_type": "code",
   "execution_count": null,
   "metadata": {},
   "outputs": [],
   "source": [
    "try:\n",
    "    f=open(\"my_words1.txt\")\n",
    "except:\n",
    "    print(\"Error:没有找到文件或者读取文件视频\")\n",
    "else:\n",
    "    print(\"读取文件成功\")\n",
    "    f.close()"
   ]
  },
  {
   "cell_type": "markdown",
   "metadata": {},
   "source": [
    "**finally中的内容，退出try时总会执行**"
   ]
  },
  {
   "cell_type": "code",
   "execution_count": null,
   "metadata": {},
   "outputs": [],
   "source": [
    "try:\n",
    "    f = open(\"my_words.txt\",\"w\")\n",
    "    f.write(\"这是一个测试文件，用于测试异常!!\")\n",
    "finally:\n",
    "    print('关闭文件')\n",
    "    f.close()"
   ]
  },
  {
   "cell_type": "markdown",
   "metadata": {},
   "source": [
    "\n",
    "**更简单的方式 with open as**\n",
    "- **推荐使用的方式！！！**\n"
   ]
  },
  {
   "cell_type": "code",
   "execution_count": null,
   "metadata": {
    "code_folding": []
   },
   "outputs": [],
   "source": [
    "with open(\"words.txt\") as f:\n",
    "    print(f.readlines())"
   ]
  },
  {
   "cell_type": "markdown",
   "metadata": {},
   "source": [
    "## JSON文件"
   ]
  },
  {
   "cell_type": "markdown",
   "metadata": {},
   "source": [
    "**JSON(JavaScript Object Notation) 是一种轻量级的数据交换格式，易于人阅读和编写。**\n",
    "- **JSON格式可以对高维数据进行表达和存储** -\n",
    "\n",
    "基本格式为：  \n",
    "\n",
    "- \"key\":\" value\"\n",
    "\n",
    "多个键值对:  \n",
    "\n",
    "1. 数据保存在键值对中\n",
    "2. 键值对之间用逗号分隔\n",
    "3. 大括号用于保存键值对数据组成的对象\n",
    "4. 方括号用于保存键值对数据组成的数组\n",
    "\n",
    "\n",
    "\n",
    "    \n",
    "    "
   ]
  },
  {
   "cell_type": "code",
   "execution_count": null,
   "metadata": {},
   "outputs": [],
   "source": [
    "\"\"\"\n",
    "\"数管专业学生\":[\n",
    "    {\n",
    "        \"姓名\":\"张三\",\n",
    "        \"性别\"：\"男\",\n",
    "        \"学院\"：\"sim\"\n",
    "    },\n",
    "    {\n",
    "        \"姓名\"：\"李四\",\n",
    "        \"性别\"：\"男\",\n",
    "        \"学院\"：\"通信\"\n",
    "    }\n",
    "]\n",
    "\"\"\" "
   ]
  },
  {
   "cell_type": "markdown",
   "metadata": {},
   "source": [
    "### json.dumps 用于将 Python 对象编码成 JSON 字符串。\n",
    "将dict转换为string (易传输)"
   ]
  },
  {
   "cell_type": "code",
   "execution_count": null,
   "metadata": {},
   "outputs": [],
   "source": [
    "import json\n",
    "data = { 'b' : 2, 'd' : 4, 'a' : 1, 'c' : 3, 'e' : 5 } \n",
    "json_str = json.dumps(data, sort_keys=True,indent=4)\n",
    "print(json_str)"
   ]
  },
  {
   "cell_type": "code",
   "execution_count": null,
   "metadata": {},
   "outputs": [],
   "source": [
    "help(open)"
   ]
  },
  {
   "cell_type": "code",
   "execution_count": null,
   "metadata": {},
   "outputs": [],
   "source": [
    "print(type(json_str))"
   ]
  },
  {
   "cell_type": "code",
   "execution_count": null,
   "metadata": {},
   "outputs": [],
   "source": [
    "json.loads(json_str)"
   ]
  },
  {
   "cell_type": "markdown",
   "metadata": {},
   "source": [
    "### json.loads 用于解码JSON 数据。该函数返回 Python 字段的数据类型。\n",
    "针对内存对象将string转换为dict "
   ]
  },
  {
   "cell_type": "code",
   "execution_count": null,
   "metadata": {},
   "outputs": [],
   "source": [
    "import json\n",
    "jsonData = '{\"a\":1,\"b\":2,\"c\":3,\"d\":4,\"e\":5}'\n",
    "text = json.loads(jsonData)  #将string转换为dict\n",
    "print(text)"
   ]
  },
  {
   "cell_type": "markdown",
   "metadata": {},
   "source": [
    "### json.load 针对文件句柄，将json格式的字符转换为dict\n",
    "\n",
    "从文件中读取 (将string转换为dict)"
   ]
  },
  {
   "cell_type": "code",
   "execution_count": null,
   "metadata": {},
   "outputs": [],
   "source": [
    "import json\n",
    "with open (\"t_cdr.json\",mode=\"r\",encoding='utf8') as json_f:\n",
    "    json_data=json.load(json_f)"
   ]
  },
  {
   "cell_type": "code",
   "execution_count": null,
   "metadata": {},
   "outputs": [],
   "source": [
    "json_data['types'][0]"
   ]
  },
  {
   "cell_type": "code",
   "execution_count": null,
   "metadata": {},
   "outputs": [],
   "source": [
    "json_data.keys()"
   ]
  },
  {
   "cell_type": "markdown",
   "metadata": {},
   "source": [
    "### dump：将dict类型转换为json字符串格式，写入到文件 （易存储）"
   ]
  },
  {
   "cell_type": "code",
   "execution_count": null,
   "metadata": {},
   "outputs": [],
   "source": [
    "import json"
   ]
  },
  {
   "cell_type": "code",
   "execution_count": null,
   "metadata": {},
   "outputs": [],
   "source": [
    "bigdata={\"class\":\"bigdata\",\"year\":\"2019\",\"colleage\":\"sim\"}"
   ]
  },
  {
   "cell_type": "code",
   "execution_count": null,
   "metadata": {},
   "outputs": [],
   "source": [
    "with open(\"examples/bigata_json.json\",'w') as f:\n",
    "    json.dump(bigdata,f)"
   ]
  },
  {
   "cell_type": "markdown",
   "metadata": {},
   "source": [
    "## 读取csv文件"
   ]
  },
  {
   "cell_type": "markdown",
   "metadata": {},
   "source": [
    "CSV（Comma-Separated Values）文件：逗号分隔符文件"
   ]
  },
  {
   "cell_type": "markdown",
   "metadata": {},
   "source": [
    "### 读CSV文件"
   ]
  },
  {
   "cell_type": "markdown",
   "metadata": {},
   "source": [
    "#### 普通文件方式读取CSV文件"
   ]
  },
  {
   "cell_type": "code",
   "execution_count": null,
   "metadata": {},
   "outputs": [],
   "source": [
    "import csv\n"
   ]
  },
  {
   "cell_type": "code",
   "execution_count": null,
   "metadata": {},
   "outputs": [],
   "source": [
    "with open(\"examples/ex6.csv\") as f:\n",
    "    for line in f:\n",
    "        print(line)\n"
   ]
  },
  {
   "cell_type": "code",
   "execution_count": null,
   "metadata": {},
   "outputs": [],
   "source": [
    "with open(\"examples/ex6.csv\") as f:\n",
    "    for row in csv.reader(f):\n",
    "        #print(row[-1])\n",
    "        print(row)"
   ]
  },
  {
   "cell_type": "markdown",
   "metadata": {},
   "source": [
    "### 写CSV文件"
   ]
  },
  {
   "cell_type": "code",
   "execution_count": 3,
   "metadata": {},
   "outputs": [
    {
     "name": "stdout",
     "output_type": "stream",
     "text": [
      "['张三', '18', '学生', '北京', '2019']\n",
      "写入完毕！\n"
     ]
    }
   ],
   "source": [
    "#1.向csv文件中写入数据\n",
    "import csv\n",
    "row=['张三','18','学生','北京','2019']\n",
    "print(row)\n",
    "with open(\"examples/test.csv\",'w',newline='') as f:\n",
    "    write=csv.writer(f)\n",
    "    write.writerows(row)\n",
    "    print(\"写入完毕！\")\n"
   ]
  },
  {
   "cell_type": "code",
   "execution_count": null,
   "metadata": {},
   "outputs": [],
   "source": []
  }
 ],
 "metadata": {
  "kernelspec": {
   "display_name": "Python 3",
   "language": "python",
   "name": "python3"
  },
  "language_info": {
   "codemirror_mode": {
    "name": "ipython",
    "version": 3
   },
   "file_extension": ".py",
   "mimetype": "text/x-python",
   "name": "python",
   "nbconvert_exporter": "python",
   "pygments_lexer": "ipython3",
   "version": "3.7.4"
  },
  "toc": {
   "base_numbering": 1,
   "nav_menu": {},
   "number_sections": true,
   "sideBar": true,
   "skip_h1_title": false,
   "title_cell": "Table of Contents",
   "title_sidebar": "Contents",
   "toc_cell": false,
   "toc_position": {},
   "toc_section_display": true,
   "toc_window_display": false
  },
  "varInspector": {
   "cols": {
    "lenName": 16,
    "lenType": 16,
    "lenVar": 40
   },
   "kernels_config": {
    "python": {
     "delete_cmd_postfix": "",
     "delete_cmd_prefix": "del ",
     "library": "var_list.py",
     "varRefreshCmd": "print(var_dic_list())"
    },
    "r": {
     "delete_cmd_postfix": ") ",
     "delete_cmd_prefix": "rm(",
     "library": "var_list.r",
     "varRefreshCmd": "cat(var_dic_list()) "
    }
   },
   "types_to_exclude": [
    "module",
    "function",
    "builtin_function_or_method",
    "instance",
    "_Feature"
   ],
   "window_display": false
  }
 },
 "nbformat": 4,
 "nbformat_minor": 2
}
