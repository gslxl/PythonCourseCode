{
 "cells": [
  {
   "cell_type": "markdown",
   "metadata": {},
   "source": [
    "# Pandas库"
   ]
  },
  {
   "cell_type": "markdown",
   "metadata": {},
   "source": [
    "pandas是python第三方库，提供高性能易用数据类型和分析工具。\n",
    "\n",
    "pandas基于numpy实现，常与numpy和matplotlib一同使用\n",
    "\n",
    "更多学习，请参考pandas中文网：https://www.pypandas.cn/"
   ]
  },
  {
   "cell_type": "markdown",
   "metadata": {},
   "source": [
    "<br/>\n",
    "\n",
    "**Pandas核心数据结构：**\n",
    "\n",
    "<img src=\"https://ai-studio-static-online.cdn.bcebos.com/a8c80653f39b479dab9f6867a638b64c405e79d6540c4307a22f43c4b0e228bc\" width='300' heighr='300'>\n",
    "\n",
    "<img src=\"https://ai-studio-static-online.cdn.bcebos.com/c8f06f423acc488fb391bca5dcf8f2b02d7444ef526f41599b6b430ae24659c1\" width='500' height='500'>"
   ]
  },
  {
   "cell_type": "markdown",
   "metadata": {},
   "source": [
    "## Series\n",
    "Series是一种类似于一维数组的对象，它由一维数组（各种numpy数据类型）以及一组与之相关的数据标签（即索引）组成.\n",
    "\n",
    "可理解为带标签的一维数组，可存储整数、浮点数、字符串、Python 对象等类型的数据。"
   ]
  },
  {
   "cell_type": "markdown",
   "metadata": {},
   "source": [
    "### Series创建"
   ]
  },
  {
   "cell_type": "markdown",
   "metadata": {},
   "source": [
    "#### 由数组创建"
   ]
  },
  {
   "cell_type": "code",
   "execution_count": 3,
   "metadata": {},
   "outputs": [
    {
     "name": "stdout",
     "output_type": "stream",
     "text": [
      "0    a\n",
      "1    b\n",
      "2    c\n",
      "3    d\n",
      "4    e\n",
      "dtype: object\n"
     ]
    }
   ],
   "source": [
    "import pandas as pd\n",
    "import numpy as np\n",
    "s1 = pd.Series(['a','b','c','d','e'])\n",
    "print(s1)"
   ]
  },
  {
   "cell_type": "code",
   "execution_count": null,
   "metadata": {},
   "outputs": [],
   "source": [
    "s1 = pd.Series(('a','b','c','d','e'))\n",
    "print(s1)"
   ]
  },
  {
   "cell_type": "code",
   "execution_count": null,
   "metadata": {},
   "outputs": [],
   "source": [
    "pd.Series(np.array((1,3,5,6)))"
   ]
  },
  {
   "cell_type": "code",
   "execution_count": null,
   "metadata": {},
   "outputs": [],
   "source": [
    "pd.Series(np.arange(4))"
   ]
  },
  {
   "cell_type": "code",
   "execution_count": null,
   "metadata": {},
   "outputs": [],
   "source": [
    "s1.values"
   ]
  },
  {
   "cell_type": "code",
   "execution_count": null,
   "metadata": {},
   "outputs": [],
   "source": [
    "#与字典不同的是：Series允许索引重复\n",
    "s = pd.Series(['a','b','c','d','e'],index=[100,200,100,400,500])\n",
    "print(s)"
   ]
  },
  {
   "cell_type": "markdown",
   "metadata": {},
   "source": [
    "##### 创建日期序列"
   ]
  },
  {
   "cell_type": "code",
   "execution_count": null,
   "metadata": {},
   "outputs": [],
   "source": [
    "dates=pd.date_range(\"20201101\",\"20201120\")\n",
    "dates"
   ]
  },
  {
   "cell_type": "code",
   "execution_count": null,
   "metadata": {},
   "outputs": [],
   "source": [
    "pd.Series(np.arange(20),index=dates)"
   ]
  },
  {
   "cell_type": "markdown",
   "metadata": {},
   "source": [
    "如何访问呢？"
   ]
  },
  {
   "cell_type": "markdown",
   "metadata": {},
   "source": [
    "#### 由字典创建"
   ]
  },
  {
   "cell_type": "code",
   "execution_count": null,
   "metadata": {},
   "outputs": [],
   "source": [
    "d = {'b': 1, 'a': 0, 'c': 2}\n",
    "pd.Series(d)\n"
   ]
  },
  {
   "cell_type": "code",
   "execution_count": null,
   "metadata": {},
   "outputs": [],
   "source": [
    "d.index()"
   ]
  },
  {
   "cell_type": "markdown",
   "metadata": {},
   "source": [
    "### Series的访问"
   ]
  },
  {
   "cell_type": "markdown",
   "metadata": {},
   "source": [
    "可以通过Series的values和index属性获取其数组表示形式和索引对象"
   ]
  },
  {
   "cell_type": "markdown",
   "metadata": {},
   "source": [
    "#### 通过索引访问"
   ]
  },
  {
   "cell_type": "code",
   "execution_count": null,
   "metadata": {},
   "outputs": [],
   "source": [
    "#与普通numpy数组相比，可以通过索引的方式选取Series中的单个或一组值\n",
    "print(s[100])\n",
    "print(s[[400, 500]])"
   ]
  },
  {
   "cell_type": "code",
   "execution_count": null,
   "metadata": {},
   "outputs": [],
   "source": [
    "s"
   ]
  },
  {
   "cell_type": "code",
   "execution_count": null,
   "metadata": {},
   "outputs": [],
   "source": [
    "s[1:3]"
   ]
  },
  {
   "cell_type": "markdown",
   "metadata": {},
   "source": [
    "#### 通过下标访问"
   ]
  },
  {
   "cell_type": "markdown",
   "metadata": {},
   "source": [
    "没有指定index的可以通过下标访问"
   ]
  },
  {
   "cell_type": "markdown",
   "metadata": {},
   "source": [
    "index也可以是字符串类型"
   ]
  },
  {
   "cell_type": "code",
   "execution_count": null,
   "metadata": {},
   "outputs": [],
   "source": [
    "s = pd.Series(np.array([1,2,3,4,5]), index=['a', 'b', 'c', 'd', 'e'])"
   ]
  },
  {
   "cell_type": "markdown",
   "metadata": {},
   "source": [
    "由array创建的即可以通过索引访问也可以通过数组下标访问"
   ]
  },
  {
   "cell_type": "markdown",
   "metadata": {},
   "source": [
    "### Series运算"
   ]
  },
  {
   "cell_type": "code",
   "execution_count": null,
   "metadata": {},
   "outputs": [],
   "source": [
    "s = pd.Series(np.array([1,2,3,4,5]), index=['a', 'b', 'c', 'd', 'e'])\n",
    "print(s)"
   ]
  },
  {
   "cell_type": "code",
   "execution_count": null,
   "metadata": {},
   "outputs": [],
   "source": [
    "#对应元素求和\n",
    "print(s+2)\n",
    "#对应元素乘\n",
    "print(s*3)\n",
    "print(np.log(s))"
   ]
  },
  {
   "cell_type": "code",
   "execution_count": null,
   "metadata": {},
   "outputs": [],
   "source": [
    "np.log(s)"
   ]
  },
  {
   "cell_type": "markdown",
   "metadata": {},
   "source": [
    "##### Series中最重要的一个功能是：它会在算术运算中自动对齐不同索引的数据\n",
    "\n",
    "Series 和多维数组的主要区别在于， Series 之间的操作会自动基于标签对齐数据。因此，不用顾及执行计算操作的 Series 是否有相同的标签。"
   ]
  },
  {
   "cell_type": "code",
   "execution_count": null,
   "metadata": {},
   "outputs": [],
   "source": [
    "obj1 = pd.Series({\"Ohio\": 35000, \"Oregon\": 16000, \"Texas\": 71000, \"Utah\": 5000})\n",
    "print(obj1)"
   ]
  },
  {
   "cell_type": "code",
   "execution_count": null,
   "metadata": {},
   "outputs": [],
   "source": [
    "obj2 = pd.Series({\"California\": np.nan, \"Ohio\": 35000, \"Oregon\": 16000, \"Texas\": 71000})\n",
    "print(obj2)"
   ]
  },
  {
   "cell_type": "code",
   "execution_count": null,
   "metadata": {},
   "outputs": [],
   "source": [
    "obj1+obj2"
   ]
  },
  {
   "cell_type": "code",
   "execution_count": null,
   "metadata": {},
   "outputs": [],
   "source": [
    "obj1 = pd.Series({\"Ohio\": 35000, \"Oregon\": 16000, \"Texas\": 71000, \"Utah\": 5000})\n",
    "print(obj1)\n",
    "obj2 = pd.Series({\"California\": np.nan, \"Ohio\": 35000, \"Oregon\": 16000, \"Texas\": 71000})\n",
    "print(obj2)\n",
    "obj3=obj1+obj2\n",
    "print(obj3)"
   ]
  },
  {
   "cell_type": "markdown",
   "metadata": {},
   "source": [
    "##### 有很多nan值怎么判断呢"
   ]
  },
  {
   "cell_type": "code",
   "execution_count": null,
   "metadata": {},
   "outputs": [],
   "source": [
    "obj3.isnull()"
   ]
  },
  {
   "cell_type": "code",
   "execution_count": null,
   "metadata": {},
   "outputs": [],
   "source": [
    "obj3.fillna()"
   ]
  },
  {
   "cell_type": "markdown",
   "metadata": {},
   "source": [
    "##### 如果没有索引可以指定索引"
   ]
  },
  {
   "cell_type": "code",
   "execution_count": null,
   "metadata": {},
   "outputs": [],
   "source": [
    "s1.index=['s1','s2','s3','s4','s5']\n",
    "print(s1)"
   ]
  },
  {
   "cell_type": "code",
   "execution_count": null,
   "metadata": {},
   "outputs": [],
   "source": [
    "dates = pd.date_range('20201120', periods=3) # 生成时间序列\n",
    "df = pd.Series(np.arange(3),index=dates)\n",
    "print(df)"
   ]
  },
  {
   "cell_type": "markdown",
   "metadata": {},
   "source": [
    "## DataFrame\n",
    "\n",
    "<img src=\"https://ai-studio-static-online.cdn.bcebos.com/c8f06f423acc488fb391bca5dcf8f2b02d7444ef526f41599b6b430ae24659c1\" width='500' height='500'>"
   ]
  },
  {
   "cell_type": "markdown",
   "metadata": {},
   "source": [
    "DataFrame是一个表格型的数据结构，类似于Excel或sql表\n",
    "\n",
    "它含有一组有序的列，每列可以是不同的值类型（数值、字符串、布尔值等）\n",
    "\n",
    "DataFrame既有行索引也有列索引，它可以被看做由Series组成的字典（共用同一个索引）"
   ]
  },
  {
   "cell_type": "markdown",
   "metadata": {},
   "source": [
    "### 创建DataFrame"
   ]
  },
  {
   "cell_type": "markdown",
   "metadata": {},
   "source": [
    "#### 从字典创建"
   ]
  },
  {
   "cell_type": "code",
   "execution_count": 5,
   "metadata": {},
   "outputs": [
    {
     "name": "stdout",
     "output_type": "stream",
     "text": [
      "    state  year  pop\n",
      "0    Ohio  2000  1.5\n",
      "1    Ohio  2001  1.7\n",
      "2    Ohio  2002  3.6\n",
      "3  Nevada  2001  2.4\n",
      "4  Nevada  2002  2.9\n"
     ]
    }
   ],
   "source": [
    "data = {'state': ['Ohio', 'Ohio', 'Ohio', 'Nevada', 'Nevada'],\\\n",
    "        'year': [2000, 2001, 2002, 2001, 2002], \\\n",
    "        'pop': [1.5, 1.7, 3.6, 2.4, 2.9]}\n",
    "frame = pd.DataFrame(data)\n",
    "print(frame)"
   ]
  },
  {
   "cell_type": "code",
   "execution_count": 6,
   "metadata": {},
   "outputs": [
    {
     "data": {
      "text/html": [
       "<div>\n",
       "<style scoped>\n",
       "    .dataframe tbody tr th:only-of-type {\n",
       "        vertical-align: middle;\n",
       "    }\n",
       "\n",
       "    .dataframe tbody tr th {\n",
       "        vertical-align: top;\n",
       "    }\n",
       "\n",
       "    .dataframe thead th {\n",
       "        text-align: right;\n",
       "    }\n",
       "</style>\n",
       "<table border=\"1\" class=\"dataframe\">\n",
       "  <thead>\n",
       "    <tr style=\"text-align: right;\">\n",
       "      <th></th>\n",
       "      <th>state</th>\n",
       "      <th>year</th>\n",
       "      <th>pop</th>\n",
       "    </tr>\n",
       "  </thead>\n",
       "  <tbody>\n",
       "    <tr>\n",
       "      <td>0</td>\n",
       "      <td>Ohio</td>\n",
       "      <td>2000</td>\n",
       "      <td>1.5</td>\n",
       "    </tr>\n",
       "    <tr>\n",
       "      <td>1</td>\n",
       "      <td>Ohio</td>\n",
       "      <td>2001</td>\n",
       "      <td>1.7</td>\n",
       "    </tr>\n",
       "    <tr>\n",
       "      <td>2</td>\n",
       "      <td>Ohio</td>\n",
       "      <td>2002</td>\n",
       "      <td>3.6</td>\n",
       "    </tr>\n",
       "    <tr>\n",
       "      <td>3</td>\n",
       "      <td>Nevada</td>\n",
       "      <td>2001</td>\n",
       "      <td>2.4</td>\n",
       "    </tr>\n",
       "    <tr>\n",
       "      <td>4</td>\n",
       "      <td>Nevada</td>\n",
       "      <td>2002</td>\n",
       "      <td>2.9</td>\n",
       "    </tr>\n",
       "  </tbody>\n",
       "</table>\n",
       "</div>"
      ],
      "text/plain": [
       "    state  year  pop\n",
       "0    Ohio  2000  1.5\n",
       "1    Ohio  2001  1.7\n",
       "2    Ohio  2002  3.6\n",
       "3  Nevada  2001  2.4\n",
       "4  Nevada  2002  2.9"
      ]
     },
     "execution_count": 6,
     "metadata": {},
     "output_type": "execute_result"
    }
   ],
   "source": [
    "frame['year']=frame['year'].astype('str')\n",
    "frame.head()"
   ]
  },
  {
   "cell_type": "code",
   "execution_count": null,
   "metadata": {},
   "outputs": [],
   "source": [
    "#如果指定了列顺序，则DataFrame的列就会按照指定顺序进行排列\n",
    "frame1 = pd.DataFrame(data, columns=['year', 'state', 'pop'])\n",
    "print(frame1)"
   ]
  },
  {
   "cell_type": "markdown",
   "metadata": {},
   "source": [
    "跟原Series一样，如果传入的列在数据中找不到，就会产生NAN值"
   ]
  },
  {
   "cell_type": "code",
   "execution_count": 6,
   "metadata": {},
   "outputs": [
    {
     "name": "stdout",
     "output_type": "stream",
     "text": [
      "       year   state  pop debt\n",
      "one    2000    Ohio  1.5  NaN\n",
      "two    2001    Ohio  1.7  NaN\n",
      "three  2002    Ohio  3.6  NaN\n",
      "four   2001  Nevada  2.4  NaN\n",
      "five   2002  Nevada  2.9  NaN\n"
     ]
    }
   ],
   "source": [
    "frame2 = pd.DataFrame(data, columns=['year', 'state', 'pop', 'debt'], index=['one', 'two', 'three', 'four', 'five'])\n",
    "print(frame2)"
   ]
  },
  {
   "cell_type": "code",
   "execution_count": null,
   "metadata": {},
   "outputs": [],
   "source": [
    "df['two':'four']"
   ]
  },
  {
   "cell_type": "code",
   "execution_count": null,
   "metadata": {},
   "outputs": [],
   "source": [
    "#通过类似字典标记的方式或属性的方式，可以将DataFrame的列获取为一个Series,返回的Series拥有原DataFrame相同的索引\n",
    "type(frame2['state'])"
   ]
  },
  {
   "cell_type": "markdown",
   "metadata": {},
   "source": [
    "#### 用 Series 创建DataFrame"
   ]
  },
  {
   "cell_type": "code",
   "execution_count": null,
   "metadata": {},
   "outputs": [],
   "source": [
    "d = {'one': pd.Series([1., 2., 3.], index=['a', 'b', 'c']),\n",
    "     'two': pd.Series([1., 2., 3., 4.], index=['a', 'b', 'c', 'd'])}\n",
    "print(pd.DataFrame(d))"
   ]
  },
  {
   "cell_type": "markdown",
   "metadata": {},
   "source": [
    "#### 由二维list/ndarray创建"
   ]
  },
  {
   "cell_type": "code",
   "execution_count": null,
   "metadata": {},
   "outputs": [],
   "source": [
    "pd.DataFrame([[1,2,3],[4,5,6]],columns=['a','b','c'])"
   ]
  },
  {
   "cell_type": "code",
   "execution_count": null,
   "metadata": {},
   "outputs": [],
   "source": [
    "pd.DataFrame(np.arange(12).reshape(3,4),columns=['a','b','c','d'])"
   ]
  },
  {
   "cell_type": "markdown",
   "metadata": {},
   "source": [
    "##### 读取csv文件创建为一个dateframe"
   ]
  },
  {
   "cell_type": "code",
   "execution_count": null,
   "metadata": {},
   "outputs": [],
   "source": [
    "help(pd.read_csv)"
   ]
  },
  {
   "cell_type": "code",
   "execution_count": null,
   "metadata": {},
   "outputs": [],
   "source": [
    "pf=pd.read_table(\"examples/bigdata2019.txt\",sep='\\t',encoding='utf-8')\n",
    "pf.info()"
   ]
  },
  {
   "cell_type": "code",
   "execution_count": null,
   "metadata": {},
   "outputs": [],
   "source": [
    "pf.head()"
   ]
  },
  {
   "cell_type": "code",
   "execution_count": null,
   "metadata": {},
   "outputs": [],
   "source": [
    "pf.出生年月"
   ]
  },
  {
   "cell_type": "markdown",
   "metadata": {},
   "source": [
    "## 索引"
   ]
  },
  {
   "cell_type": "markdown",
   "metadata": {},
   "source": [
    "### series索引"
   ]
  },
  {
   "cell_type": "markdown",
   "metadata": {},
   "source": [
    "##### Series的索引方式类似于Numpy数组的索引，Series的索引不只是整数"
   ]
  },
  {
   "cell_type": "code",
   "execution_count": null,
   "metadata": {},
   "outputs": [],
   "source": [
    "obj=pd.Series(np.arange(4),index=['a','b','c','d'])\n",
    "obj"
   ]
  },
  {
   "cell_type": "code",
   "execution_count": null,
   "metadata": {},
   "outputs": [],
   "source": [
    "obj['b':'d']"
   ]
  },
  {
   "cell_type": "code",
   "execution_count": null,
   "metadata": {},
   "outputs": [],
   "source": [
    "obj[3]"
   ]
  },
  {
   "cell_type": "markdown",
   "metadata": {},
   "source": [
    "### DataFrame索引"
   ]
  },
  {
   "cell_type": "code",
   "execution_count": null,
   "metadata": {},
   "outputs": [],
   "source": [
    "frame2"
   ]
  },
  {
   "cell_type": "code",
   "execution_count": null,
   "metadata": {},
   "outputs": [],
   "source": [
    "frame2[1:3]"
   ]
  },
  {
   "cell_type": "markdown",
   "metadata": {},
   "source": [
    "##### loc的用法"
   ]
  },
  {
   "cell_type": "code",
   "execution_count": null,
   "metadata": {},
   "outputs": [],
   "source": [
    "frame2.loc['one','state']"
   ]
  },
  {
   "cell_type": "markdown",
   "metadata": {},
   "source": [
    "#### 通过行号索引 单行或者多行iloc"
   ]
  },
  {
   "cell_type": "code",
   "execution_count": null,
   "metadata": {},
   "outputs": [],
   "source": [
    "frame2"
   ]
  },
  {
   "cell_type": "code",
   "execution_count": null,
   "metadata": {},
   "outputs": [],
   "source": [
    "frame2.iloc[1:4,1]"
   ]
  },
  {
   "cell_type": "markdown",
   "metadata": {},
   "source": [
    "#### 通过行标签索引 单行或者多行loc\n"
   ]
  },
  {
   "cell_type": "code",
   "execution_count": null,
   "metadata": {},
   "outputs": [],
   "source": [
    "frame2.loc['two':'five']"
   ]
  },
  {
   "cell_type": "markdown",
   "metadata": {},
   "source": [
    "也可以和列索引配合使用"
   ]
  },
  {
   "cell_type": "code",
   "execution_count": null,
   "metadata": {},
   "outputs": [],
   "source": [
    "frame2.iloc[1:3,:2]"
   ]
  },
  {
   "cell_type": "markdown",
   "metadata": {},
   "source": [
    "可以选取pop大于2的数据"
   ]
  },
  {
   "cell_type": "code",
   "execution_count": 3,
   "metadata": {},
   "outputs": [],
   "source": [
    "import pandas as pd"
   ]
  },
  {
   "cell_type": "code",
   "execution_count": 8,
   "metadata": {},
   "outputs": [
    {
     "name": "stdout",
     "output_type": "stream",
     "text": [
      "       year   state  pop debt\n",
      "one    2000    Ohio  1.5  NaN\n",
      "two    2001    Ohio  1.7  NaN\n",
      "three  2002    Ohio  3.6  NaN\n",
      "four   2001  Nevada  2.4  NaN\n",
      "five   2002  Nevada  2.9  NaN\n"
     ]
    },
    {
     "data": {
      "text/plain": [
       "one      False\n",
       "two      False\n",
       "three     True\n",
       "four      True\n",
       "five      True\n",
       "Name: pop, dtype: bool"
      ]
     },
     "execution_count": 8,
     "metadata": {},
     "output_type": "execute_result"
    }
   ],
   "source": [
    "df = pd.DataFrame(data, columns=['year', 'state', 'pop', 'debt'], index=['one', 'two', 'three', 'four', 'five'])\n",
    "print(df)\n",
    "df['pop']>2"
   ]
  },
  {
   "cell_type": "code",
   "execution_count": 10,
   "metadata": {},
   "outputs": [
    {
     "data": {
      "text/html": [
       "<div>\n",
       "<style scoped>\n",
       "    .dataframe tbody tr th:only-of-type {\n",
       "        vertical-align: middle;\n",
       "    }\n",
       "\n",
       "    .dataframe tbody tr th {\n",
       "        vertical-align: top;\n",
       "    }\n",
       "\n",
       "    .dataframe thead th {\n",
       "        text-align: right;\n",
       "    }\n",
       "</style>\n",
       "<table border=\"1\" class=\"dataframe\">\n",
       "  <thead>\n",
       "    <tr style=\"text-align: right;\">\n",
       "      <th></th>\n",
       "      <th>year</th>\n",
       "      <th>state</th>\n",
       "      <th>pop</th>\n",
       "      <th>debt</th>\n",
       "    </tr>\n",
       "  </thead>\n",
       "  <tbody>\n",
       "    <tr>\n",
       "      <td>four</td>\n",
       "      <td>2001</td>\n",
       "      <td>Nevada</td>\n",
       "      <td>2.4</td>\n",
       "      <td>NaN</td>\n",
       "    </tr>\n",
       "  </tbody>\n",
       "</table>\n",
       "</div>"
      ],
      "text/plain": [
       "      year   state  pop debt\n",
       "four  2001  Nevada  2.4  NaN"
      ]
     },
     "execution_count": 10,
     "metadata": {},
     "output_type": "execute_result"
    }
   ],
   "source": [
    "df[(df['pop']>2) &(df['year']==2001)]"
   ]
  },
  {
   "cell_type": "markdown",
   "metadata": {},
   "source": [
    "## 函数应用"
   ]
  },
  {
   "cell_type": "code",
   "execution_count": 11,
   "metadata": {},
   "outputs": [
    {
     "data": {
      "text/html": [
       "<div>\n",
       "<style scoped>\n",
       "    .dataframe tbody tr th:only-of-type {\n",
       "        vertical-align: middle;\n",
       "    }\n",
       "\n",
       "    .dataframe tbody tr th {\n",
       "        vertical-align: top;\n",
       "    }\n",
       "\n",
       "    .dataframe thead th {\n",
       "        text-align: right;\n",
       "    }\n",
       "</style>\n",
       "<table border=\"1\" class=\"dataframe\">\n",
       "  <thead>\n",
       "    <tr style=\"text-align: right;\">\n",
       "      <th></th>\n",
       "      <th>year</th>\n",
       "      <th>state</th>\n",
       "      <th>pop</th>\n",
       "      <th>debt</th>\n",
       "    </tr>\n",
       "  </thead>\n",
       "  <tbody>\n",
       "    <tr>\n",
       "      <td>one</td>\n",
       "      <td>2000</td>\n",
       "      <td>Ohio</td>\n",
       "      <td>1.5</td>\n",
       "      <td>NaN</td>\n",
       "    </tr>\n",
       "    <tr>\n",
       "      <td>two</td>\n",
       "      <td>2001</td>\n",
       "      <td>Ohio</td>\n",
       "      <td>1.7</td>\n",
       "      <td>NaN</td>\n",
       "    </tr>\n",
       "    <tr>\n",
       "      <td>three</td>\n",
       "      <td>2002</td>\n",
       "      <td>Ohio</td>\n",
       "      <td>3.6</td>\n",
       "      <td>NaN</td>\n",
       "    </tr>\n",
       "    <tr>\n",
       "      <td>four</td>\n",
       "      <td>2001</td>\n",
       "      <td>Nevada</td>\n",
       "      <td>2.4</td>\n",
       "      <td>NaN</td>\n",
       "    </tr>\n",
       "    <tr>\n",
       "      <td>five</td>\n",
       "      <td>2002</td>\n",
       "      <td>Nevada</td>\n",
       "      <td>2.9</td>\n",
       "      <td>NaN</td>\n",
       "    </tr>\n",
       "  </tbody>\n",
       "</table>\n",
       "</div>"
      ],
      "text/plain": [
       "       year   state  pop debt\n",
       "one    2000    Ohio  1.5  NaN\n",
       "two    2001    Ohio  1.7  NaN\n",
       "three  2002    Ohio  3.6  NaN\n",
       "four   2001  Nevada  2.4  NaN\n",
       "five   2002  Nevada  2.9  NaN"
      ]
     },
     "execution_count": 11,
     "metadata": {},
     "output_type": "execute_result"
    }
   ],
   "source": [
    "df"
   ]
  },
  {
   "cell_type": "code",
   "execution_count": 12,
   "metadata": {},
   "outputs": [],
   "source": [
    "f=lambda x: 10*x"
   ]
  },
  {
   "cell_type": "code",
   "execution_count": 13,
   "metadata": {},
   "outputs": [
    {
     "data": {
      "text/plain": [
       "one      15.0\n",
       "two      17.0\n",
       "three    36.0\n",
       "four     24.0\n",
       "five     29.0\n",
       "Name: pop, dtype: float64"
      ]
     },
     "execution_count": 13,
     "metadata": {},
     "output_type": "execute_result"
    }
   ],
   "source": [
    "df['pop'].apply(f)"
   ]
  },
  {
   "cell_type": "code",
   "execution_count": 14,
   "metadata": {},
   "outputs": [
    {
     "data": {
      "text/plain": [
       "one      15.0\n",
       "two      17.0\n",
       "three    36.0\n",
       "four     24.0\n",
       "five     29.0\n",
       "Name: pop, dtype: float64"
      ]
     },
     "execution_count": 14,
     "metadata": {},
     "output_type": "execute_result"
    }
   ],
   "source": [
    "df['pop'].apply(lambda x:10*x)"
   ]
  },
  {
   "cell_type": "code",
   "execution_count": 15,
   "metadata": {},
   "outputs": [
    {
     "data": {
      "text/plain": [
       "one      150.00%\n",
       "two      170.00%\n",
       "three    360.00%\n",
       "four     240.00%\n",
       "five     290.00%\n",
       "Name: pop, dtype: object"
      ]
     },
     "execution_count": 15,
     "metadata": {},
     "output_type": "execute_result"
    }
   ],
   "source": [
    "df['pop'].apply(lambda x:\"{:.2%}\".format(x))"
   ]
  },
  {
   "cell_type": "code",
   "execution_count": null,
   "metadata": {},
   "outputs": [],
   "source": [
    "frame2['pop']/frame2['pop'].sum()"
   ]
  },
  {
   "cell_type": "markdown",
   "metadata": {},
   "source": [
    "每一列的操作方法："
   ]
  },
  {
   "cell_type": "code",
   "execution_count": null,
   "metadata": {},
   "outputs": [],
   "source": [
    "frame2['pop'].min()"
   ]
  },
  {
   "cell_type": "code",
   "execution_count": null,
   "metadata": {},
   "outputs": [],
   "source": [
    "frame2['pop'].max()"
   ]
  },
  {
   "cell_type": "code",
   "execution_count": null,
   "metadata": {},
   "outputs": [],
   "source": [
    "frame2['pop'].std()"
   ]
  },
  {
   "cell_type": "code",
   "execution_count": null,
   "metadata": {},
   "outputs": [],
   "source": [
    "frame2['pop'].sum()"
   ]
  },
  {
   "cell_type": "code",
   "execution_count": null,
   "metadata": {},
   "outputs": [],
   "source": [
    "frame2['pop'].median()"
   ]
  },
  {
   "cell_type": "markdown",
   "metadata": {},
   "source": [
    "## 排序与排名"
   ]
  },
  {
   "cell_type": "code",
   "execution_count": 16,
   "metadata": {},
   "outputs": [
    {
     "data": {
      "text/html": [
       "<div>\n",
       "<style scoped>\n",
       "    .dataframe tbody tr th:only-of-type {\n",
       "        vertical-align: middle;\n",
       "    }\n",
       "\n",
       "    .dataframe tbody tr th {\n",
       "        vertical-align: top;\n",
       "    }\n",
       "\n",
       "    .dataframe thead th {\n",
       "        text-align: right;\n",
       "    }\n",
       "</style>\n",
       "<table border=\"1\" class=\"dataframe\">\n",
       "  <thead>\n",
       "    <tr style=\"text-align: right;\">\n",
       "      <th></th>\n",
       "      <th>year</th>\n",
       "      <th>state</th>\n",
       "      <th>pop</th>\n",
       "      <th>debt</th>\n",
       "    </tr>\n",
       "  </thead>\n",
       "  <tbody>\n",
       "    <tr>\n",
       "      <td>one</td>\n",
       "      <td>2000</td>\n",
       "      <td>Ohio</td>\n",
       "      <td>1.5</td>\n",
       "      <td>NaN</td>\n",
       "    </tr>\n",
       "    <tr>\n",
       "      <td>two</td>\n",
       "      <td>2001</td>\n",
       "      <td>Ohio</td>\n",
       "      <td>1.7</td>\n",
       "      <td>NaN</td>\n",
       "    </tr>\n",
       "    <tr>\n",
       "      <td>three</td>\n",
       "      <td>2002</td>\n",
       "      <td>Ohio</td>\n",
       "      <td>3.6</td>\n",
       "      <td>NaN</td>\n",
       "    </tr>\n",
       "    <tr>\n",
       "      <td>four</td>\n",
       "      <td>2001</td>\n",
       "      <td>Nevada</td>\n",
       "      <td>2.4</td>\n",
       "      <td>NaN</td>\n",
       "    </tr>\n",
       "    <tr>\n",
       "      <td>five</td>\n",
       "      <td>2002</td>\n",
       "      <td>Nevada</td>\n",
       "      <td>2.9</td>\n",
       "      <td>NaN</td>\n",
       "    </tr>\n",
       "  </tbody>\n",
       "</table>\n",
       "</div>"
      ],
      "text/plain": [
       "       year   state  pop debt\n",
       "one    2000    Ohio  1.5  NaN\n",
       "two    2001    Ohio  1.7  NaN\n",
       "three  2002    Ohio  3.6  NaN\n",
       "four   2001  Nevada  2.4  NaN\n",
       "five   2002  Nevada  2.9  NaN"
      ]
     },
     "execution_count": 16,
     "metadata": {},
     "output_type": "execute_result"
    }
   ],
   "source": [
    "df"
   ]
  },
  {
   "cell_type": "code",
   "execution_count": 17,
   "metadata": {
    "scrolled": true
   },
   "outputs": [
    {
     "data": {
      "text/html": [
       "<div>\n",
       "<style scoped>\n",
       "    .dataframe tbody tr th:only-of-type {\n",
       "        vertical-align: middle;\n",
       "    }\n",
       "\n",
       "    .dataframe tbody tr th {\n",
       "        vertical-align: top;\n",
       "    }\n",
       "\n",
       "    .dataframe thead th {\n",
       "        text-align: right;\n",
       "    }\n",
       "</style>\n",
       "<table border=\"1\" class=\"dataframe\">\n",
       "  <thead>\n",
       "    <tr style=\"text-align: right;\">\n",
       "      <th></th>\n",
       "      <th>year</th>\n",
       "      <th>state</th>\n",
       "      <th>pop</th>\n",
       "      <th>debt</th>\n",
       "    </tr>\n",
       "  </thead>\n",
       "  <tbody>\n",
       "    <tr>\n",
       "      <td>five</td>\n",
       "      <td>2002</td>\n",
       "      <td>Nevada</td>\n",
       "      <td>2.9</td>\n",
       "      <td>NaN</td>\n",
       "    </tr>\n",
       "    <tr>\n",
       "      <td>four</td>\n",
       "      <td>2001</td>\n",
       "      <td>Nevada</td>\n",
       "      <td>2.4</td>\n",
       "      <td>NaN</td>\n",
       "    </tr>\n",
       "    <tr>\n",
       "      <td>one</td>\n",
       "      <td>2000</td>\n",
       "      <td>Ohio</td>\n",
       "      <td>1.5</td>\n",
       "      <td>NaN</td>\n",
       "    </tr>\n",
       "    <tr>\n",
       "      <td>three</td>\n",
       "      <td>2002</td>\n",
       "      <td>Ohio</td>\n",
       "      <td>3.6</td>\n",
       "      <td>NaN</td>\n",
       "    </tr>\n",
       "    <tr>\n",
       "      <td>two</td>\n",
       "      <td>2001</td>\n",
       "      <td>Ohio</td>\n",
       "      <td>1.7</td>\n",
       "      <td>NaN</td>\n",
       "    </tr>\n",
       "  </tbody>\n",
       "</table>\n",
       "</div>"
      ],
      "text/plain": [
       "       year   state  pop debt\n",
       "five   2002  Nevada  2.9  NaN\n",
       "four   2001  Nevada  2.4  NaN\n",
       "one    2000    Ohio  1.5  NaN\n",
       "three  2002    Ohio  3.6  NaN\n",
       "two    2001    Ohio  1.7  NaN"
      ]
     },
     "execution_count": 17,
     "metadata": {},
     "output_type": "execute_result"
    }
   ],
   "source": [
    "df.sort_index()"
   ]
  },
  {
   "cell_type": "code",
   "execution_count": 18,
   "metadata": {},
   "outputs": [
    {
     "data": {
      "text/html": [
       "<div>\n",
       "<style scoped>\n",
       "    .dataframe tbody tr th:only-of-type {\n",
       "        vertical-align: middle;\n",
       "    }\n",
       "\n",
       "    .dataframe tbody tr th {\n",
       "        vertical-align: top;\n",
       "    }\n",
       "\n",
       "    .dataframe thead th {\n",
       "        text-align: right;\n",
       "    }\n",
       "</style>\n",
       "<table border=\"1\" class=\"dataframe\">\n",
       "  <thead>\n",
       "    <tr style=\"text-align: right;\">\n",
       "      <th></th>\n",
       "      <th>debt</th>\n",
       "      <th>pop</th>\n",
       "      <th>state</th>\n",
       "      <th>year</th>\n",
       "    </tr>\n",
       "  </thead>\n",
       "  <tbody>\n",
       "    <tr>\n",
       "      <td>one</td>\n",
       "      <td>NaN</td>\n",
       "      <td>1.5</td>\n",
       "      <td>Ohio</td>\n",
       "      <td>2000</td>\n",
       "    </tr>\n",
       "    <tr>\n",
       "      <td>two</td>\n",
       "      <td>NaN</td>\n",
       "      <td>1.7</td>\n",
       "      <td>Ohio</td>\n",
       "      <td>2001</td>\n",
       "    </tr>\n",
       "    <tr>\n",
       "      <td>three</td>\n",
       "      <td>NaN</td>\n",
       "      <td>3.6</td>\n",
       "      <td>Ohio</td>\n",
       "      <td>2002</td>\n",
       "    </tr>\n",
       "    <tr>\n",
       "      <td>four</td>\n",
       "      <td>NaN</td>\n",
       "      <td>2.4</td>\n",
       "      <td>Nevada</td>\n",
       "      <td>2001</td>\n",
       "    </tr>\n",
       "    <tr>\n",
       "      <td>five</td>\n",
       "      <td>NaN</td>\n",
       "      <td>2.9</td>\n",
       "      <td>Nevada</td>\n",
       "      <td>2002</td>\n",
       "    </tr>\n",
       "  </tbody>\n",
       "</table>\n",
       "</div>"
      ],
      "text/plain": [
       "      debt  pop   state  year\n",
       "one    NaN  1.5    Ohio  2000\n",
       "two    NaN  1.7    Ohio  2001\n",
       "three  NaN  3.6    Ohio  2002\n",
       "four   NaN  2.4  Nevada  2001\n",
       "five   NaN  2.9  Nevada  2002"
      ]
     },
     "execution_count": 18,
     "metadata": {},
     "output_type": "execute_result"
    }
   ],
   "source": [
    "df.sort_index(axis=1)"
   ]
  },
  {
   "cell_type": "markdown",
   "metadata": {},
   "source": [
    "若按照pop值排序呢？"
   ]
  },
  {
   "cell_type": "code",
   "execution_count": 9,
   "metadata": {},
   "outputs": [
    {
     "data": {
      "text/html": [
       "<div>\n",
       "<style scoped>\n",
       "    .dataframe tbody tr th:only-of-type {\n",
       "        vertical-align: middle;\n",
       "    }\n",
       "\n",
       "    .dataframe tbody tr th {\n",
       "        vertical-align: top;\n",
       "    }\n",
       "\n",
       "    .dataframe thead th {\n",
       "        text-align: right;\n",
       "    }\n",
       "</style>\n",
       "<table border=\"1\" class=\"dataframe\">\n",
       "  <thead>\n",
       "    <tr style=\"text-align: right;\">\n",
       "      <th></th>\n",
       "      <th>year</th>\n",
       "      <th>state</th>\n",
       "      <th>pop</th>\n",
       "      <th>debt</th>\n",
       "    </tr>\n",
       "  </thead>\n",
       "  <tbody>\n",
       "    <tr>\n",
       "      <td>three</td>\n",
       "      <td>2002</td>\n",
       "      <td>Ohio</td>\n",
       "      <td>3.6</td>\n",
       "      <td>NaN</td>\n",
       "    </tr>\n",
       "    <tr>\n",
       "      <td>five</td>\n",
       "      <td>2002</td>\n",
       "      <td>Nevada</td>\n",
       "      <td>2.9</td>\n",
       "      <td>NaN</td>\n",
       "    </tr>\n",
       "    <tr>\n",
       "      <td>four</td>\n",
       "      <td>2001</td>\n",
       "      <td>Nevada</td>\n",
       "      <td>2.4</td>\n",
       "      <td>NaN</td>\n",
       "    </tr>\n",
       "    <tr>\n",
       "      <td>two</td>\n",
       "      <td>2001</td>\n",
       "      <td>Ohio</td>\n",
       "      <td>1.7</td>\n",
       "      <td>NaN</td>\n",
       "    </tr>\n",
       "    <tr>\n",
       "      <td>one</td>\n",
       "      <td>2000</td>\n",
       "      <td>Ohio</td>\n",
       "      <td>1.5</td>\n",
       "      <td>NaN</td>\n",
       "    </tr>\n",
       "  </tbody>\n",
       "</table>\n",
       "</div>"
      ],
      "text/plain": [
       "       year   state  pop debt\n",
       "three  2002    Ohio  3.6  NaN\n",
       "five   2002  Nevada  2.9  NaN\n",
       "four   2001  Nevada  2.4  NaN\n",
       "two    2001    Ohio  1.7  NaN\n",
       "one    2000    Ohio  1.5  NaN"
      ]
     },
     "execution_count": 9,
     "metadata": {},
     "output_type": "execute_result"
    }
   ],
   "source": [
    "df.sort_values(by='pop',ascending=False)"
   ]
  },
  {
   "cell_type": "code",
   "execution_count": null,
   "metadata": {},
   "outputs": [],
   "source": [
    "frame2.sort_values(by='pop')"
   ]
  },
  {
   "cell_type": "code",
   "execution_count": 11,
   "metadata": {},
   "outputs": [
    {
     "data": {
      "text/html": [
       "<div>\n",
       "<style scoped>\n",
       "    .dataframe tbody tr th:only-of-type {\n",
       "        vertical-align: middle;\n",
       "    }\n",
       "\n",
       "    .dataframe tbody tr th {\n",
       "        vertical-align: top;\n",
       "    }\n",
       "\n",
       "    .dataframe thead th {\n",
       "        text-align: right;\n",
       "    }\n",
       "</style>\n",
       "<table border=\"1\" class=\"dataframe\">\n",
       "  <thead>\n",
       "    <tr style=\"text-align: right;\">\n",
       "      <th></th>\n",
       "      <th>year</th>\n",
       "      <th>state</th>\n",
       "      <th>pop</th>\n",
       "      <th>debt</th>\n",
       "    </tr>\n",
       "  </thead>\n",
       "  <tbody>\n",
       "    <tr>\n",
       "      <td>three</td>\n",
       "      <td>2002</td>\n",
       "      <td>Ohio</td>\n",
       "      <td>3.6</td>\n",
       "      <td>NaN</td>\n",
       "    </tr>\n",
       "    <tr>\n",
       "      <td>five</td>\n",
       "      <td>2002</td>\n",
       "      <td>Nevada</td>\n",
       "      <td>2.9</td>\n",
       "      <td>NaN</td>\n",
       "    </tr>\n",
       "    <tr>\n",
       "      <td>four</td>\n",
       "      <td>2001</td>\n",
       "      <td>Nevada</td>\n",
       "      <td>2.4</td>\n",
       "      <td>NaN</td>\n",
       "    </tr>\n",
       "    <tr>\n",
       "      <td>two</td>\n",
       "      <td>2001</td>\n",
       "      <td>Ohio</td>\n",
       "      <td>1.7</td>\n",
       "      <td>NaN</td>\n",
       "    </tr>\n",
       "    <tr>\n",
       "      <td>one</td>\n",
       "      <td>2000</td>\n",
       "      <td>Ohio</td>\n",
       "      <td>1.5</td>\n",
       "      <td>NaN</td>\n",
       "    </tr>\n",
       "  </tbody>\n",
       "</table>\n",
       "</div>"
      ],
      "text/plain": [
       "       year   state  pop debt\n",
       "three  2002    Ohio  3.6  NaN\n",
       "five   2002  Nevada  2.9  NaN\n",
       "four   2001  Nevada  2.4  NaN\n",
       "two    2001    Ohio  1.7  NaN\n",
       "one    2000    Ohio  1.5  NaN"
      ]
     },
     "execution_count": 11,
     "metadata": {},
     "output_type": "execute_result"
    }
   ],
   "source": [
    "\n",
    "df.sort_values(by='pop',ascending=False)"
   ]
  },
  {
   "cell_type": "code",
   "execution_count": 1,
   "metadata": {},
   "outputs": [],
   "source": [
    "import pandas as pd\n",
    "class_frame=pd.read_table(\"examples/bigdata2019.txt\",sep='\\t',encoding='utf-8')"
   ]
  },
  {
   "cell_type": "code",
   "execution_count": 2,
   "metadata": {},
   "outputs": [
    {
     "data": {
      "text/html": [
       "<div>\n",
       "<style scoped>\n",
       "    .dataframe tbody tr th:only-of-type {\n",
       "        vertical-align: middle;\n",
       "    }\n",
       "\n",
       "    .dataframe tbody tr th {\n",
       "        vertical-align: top;\n",
       "    }\n",
       "\n",
       "    .dataframe thead th {\n",
       "        text-align: right;\n",
       "    }\n",
       "</style>\n",
       "<table border=\"1\" class=\"dataframe\">\n",
       "  <thead>\n",
       "    <tr style=\"text-align: right;\">\n",
       "      <th></th>\n",
       "      <th>姓名</th>\n",
       "      <th>专业</th>\n",
       "      <th>出生年月</th>\n",
       "      <th>籍贯</th>\n",
       "      <th>性别</th>\n",
       "    </tr>\n",
       "  </thead>\n",
       "  <tbody>\n",
       "    <tr>\n",
       "      <td>0</td>\n",
       "      <td>朱珺阳</td>\n",
       "      <td>大数据管理与应用</td>\n",
       "      <td>200003</td>\n",
       "      <td>北京市</td>\n",
       "      <td>男</td>\n",
       "    </tr>\n",
       "    <tr>\n",
       "      <td>1</td>\n",
       "      <td>霍頔</td>\n",
       "      <td>大数据管理与应用</td>\n",
       "      <td>200003</td>\n",
       "      <td>北京市</td>\n",
       "      <td>男</td>\n",
       "    </tr>\n",
       "    <tr>\n",
       "      <td>2</td>\n",
       "      <td>张禹欣</td>\n",
       "      <td>大数据管理与应用</td>\n",
       "      <td>200009</td>\n",
       "      <td>北京市</td>\n",
       "      <td>女</td>\n",
       "    </tr>\n",
       "    <tr>\n",
       "      <td>3</td>\n",
       "      <td>王洋</td>\n",
       "      <td>大数据管理与应用</td>\n",
       "      <td>200102</td>\n",
       "      <td>山西省</td>\n",
       "      <td>男</td>\n",
       "    </tr>\n",
       "    <tr>\n",
       "      <td>4</td>\n",
       "      <td>周进魁</td>\n",
       "      <td>大数据管理与应用</td>\n",
       "      <td>200106</td>\n",
       "      <td>河南省</td>\n",
       "      <td>男</td>\n",
       "    </tr>\n",
       "  </tbody>\n",
       "</table>\n",
       "</div>"
      ],
      "text/plain": [
       "    姓名        专业    出生年月   籍贯 性别\n",
       "0  朱珺阳  大数据管理与应用  200003  北京市  男\n",
       "1   霍頔  大数据管理与应用  200003  北京市  男\n",
       "2  张禹欣  大数据管理与应用  200009  北京市  女\n",
       "3   王洋  大数据管理与应用  200102  山西省  男\n",
       "4  周进魁  大数据管理与应用  200106  河南省  男"
      ]
     },
     "execution_count": 2,
     "metadata": {},
     "output_type": "execute_result"
    }
   ],
   "source": [
    "class_frame.head()"
   ]
  },
  {
   "cell_type": "code",
   "execution_count": 3,
   "metadata": {},
   "outputs": [],
   "source": [
    "class_frame['姓']=class_frame['姓名'].str[0]"
   ]
  },
  {
   "cell_type": "code",
   "execution_count": 4,
   "metadata": {},
   "outputs": [
    {
     "data": {
      "text/plain": [
       "男    21\n",
       "女    10\n",
       "Name: 性别, dtype: int64"
      ]
     },
     "execution_count": 4,
     "metadata": {},
     "output_type": "execute_result"
    }
   ],
   "source": [
    "class_frame['性别'].value_counts()"
   ]
  },
  {
   "cell_type": "code",
   "execution_count": 16,
   "metadata": {},
   "outputs": [
    {
     "data": {
      "text/plain": [
       "Text(0.5, 1.0, '姓氏分布')"
      ]
     },
     "execution_count": 16,
     "metadata": {},
     "output_type": "execute_result"
    },
    {
     "data": {
      "image/png": "[encoded data removed]",
      "text/plain": [
       "<Figure size 432x288 with 1 Axes>"
      ]
     },
     "metadata": {
      "needs_background": "light"
     },
     "output_type": "display_data"
    }
   ],
   "source": [
    "import matplotlib.pyplot as plt\n",
    "%matplotlib inline\n",
    "from matplotlib.font_manager import FontProperties\n",
    "# 设置显示的尺寸\n",
    "plt.rcParams['font.family'] = ['Arial Unicode MS'] #正常显示中文\n",
    "class_frame['姓'].value_counts().plot(kind=\"bar\")\n",
    "plt.ylabel(\"人数\")\n",
    "plt.title(\"姓氏分布\")"
   ]
  },
  {
   "cell_type": "code",
   "execution_count": 17,
   "metadata": {},
   "outputs": [
    {
     "data": {
      "text/plain": [
       "Text(0.5, 1.0, '性别分布')"
      ]
     },
     "execution_count": 17,
     "metadata": {},
     "output_type": "execute_result"
    },
    {
     "data": {
      "image/png": "[encoded data removed]",
      "text/plain": [
       "<Figure size 432x288 with 1 Axes>"
      ]
     },
     "metadata": {},
     "output_type": "display_data"
    }
   ],
   "source": [
    "class_frame['性别'].value_counts().plot(kind=\"pie\")\n",
    "plt.ylabel(\"人数\")\n",
    "plt.title(\"性别分布\")"
   ]
  },
  {
   "cell_type": "code",
   "execution_count": 18,
   "metadata": {},
   "outputs": [
    {
     "data": {
      "text/plain": [
       "男    21\n",
       "女    10\n",
       "Name: 性别, dtype: int64"
      ]
     },
     "execution_count": 18,
     "metadata": {},
     "output_type": "execute_result"
    }
   ],
   "source": [
    "class_frame['性别'].value_counts()"
   ]
  },
  {
   "cell_type": "code",
   "execution_count": 19,
   "metadata": {},
   "outputs": [
    {
     "data": {
      "text/plain": [
       "Text(0.5, 1.0, '原籍分布')"
      ]
     },
     "execution_count": 19,
     "metadata": {},
     "output_type": "execute_result"
    },
    {
     "data": {
      "image/png": "[encoded data removed]",
      "text/plain": [
       "<Figure size 432x288 with 1 Axes>"
      ]
     },
     "metadata": {
      "needs_background": "light"
     },
     "output_type": "display_data"
    }
   ],
   "source": [
    "class_frame['籍贯'].value_counts().plot(kind=\"bar\")\n",
    "plt.ylabel(\"人数\")\n",
    "plt.title(\"原籍分布\")"
   ]
  },
  {
   "cell_type": "code",
   "execution_count": 20,
   "metadata": {},
   "outputs": [
    {
     "data": {
      "text/plain": [
       "北京市    18\n",
       "贵州省     2\n",
       "江西省     2\n",
       "辽宁省     2\n",
       "甘肃省     2\n",
       "河南省     1\n",
       "山西省     1\n",
       "安徽省     1\n",
       "河北省     1\n",
       "江苏省     1\n",
       "Name: 籍贯, dtype: int64"
      ]
     },
     "execution_count": 20,
     "metadata": {},
     "output_type": "execute_result"
    }
   ],
   "source": [
    "class_frame['籍贯'].value_counts()"
   ]
  },
  {
   "cell_type": "code",
   "execution_count": 21,
   "metadata": {},
   "outputs": [],
   "source": [
    "class_frame['age']=20"
   ]
  },
  {
   "cell_type": "code",
   "execution_count": 22,
   "metadata": {},
   "outputs": [
    {
     "data": {
      "text/html": [
       "<div>\n",
       "<style scoped>\n",
       "    .dataframe tbody tr th:only-of-type {\n",
       "        vertical-align: middle;\n",
       "    }\n",
       "\n",
       "    .dataframe tbody tr th {\n",
       "        vertical-align: top;\n",
       "    }\n",
       "\n",
       "    .dataframe thead th {\n",
       "        text-align: right;\n",
       "    }\n",
       "</style>\n",
       "<table border=\"1\" class=\"dataframe\">\n",
       "  <thead>\n",
       "    <tr style=\"text-align: right;\">\n",
       "      <th></th>\n",
       "      <th>姓名</th>\n",
       "      <th>专业</th>\n",
       "      <th>出生年月</th>\n",
       "      <th>籍贯</th>\n",
       "      <th>性别</th>\n",
       "      <th>姓</th>\n",
       "      <th>age</th>\n",
       "    </tr>\n",
       "  </thead>\n",
       "  <tbody>\n",
       "    <tr>\n",
       "      <td>0</td>\n",
       "      <td>朱珺阳</td>\n",
       "      <td>大数据管理与应用</td>\n",
       "      <td>200003</td>\n",
       "      <td>北京市</td>\n",
       "      <td>男</td>\n",
       "      <td>朱</td>\n",
       "      <td>20</td>\n",
       "    </tr>\n",
       "    <tr>\n",
       "      <td>1</td>\n",
       "      <td>霍頔</td>\n",
       "      <td>大数据管理与应用</td>\n",
       "      <td>200003</td>\n",
       "      <td>北京市</td>\n",
       "      <td>男</td>\n",
       "      <td>霍</td>\n",
       "      <td>20</td>\n",
       "    </tr>\n",
       "    <tr>\n",
       "      <td>2</td>\n",
       "      <td>张禹欣</td>\n",
       "      <td>大数据管理与应用</td>\n",
       "      <td>200009</td>\n",
       "      <td>北京市</td>\n",
       "      <td>女</td>\n",
       "      <td>张</td>\n",
       "      <td>20</td>\n",
       "    </tr>\n",
       "    <tr>\n",
       "      <td>3</td>\n",
       "      <td>王洋</td>\n",
       "      <td>大数据管理与应用</td>\n",
       "      <td>200102</td>\n",
       "      <td>山西省</td>\n",
       "      <td>男</td>\n",
       "      <td>王</td>\n",
       "      <td>20</td>\n",
       "    </tr>\n",
       "    <tr>\n",
       "      <td>4</td>\n",
       "      <td>周进魁</td>\n",
       "      <td>大数据管理与应用</td>\n",
       "      <td>200106</td>\n",
       "      <td>河南省</td>\n",
       "      <td>男</td>\n",
       "      <td>周</td>\n",
       "      <td>20</td>\n",
       "    </tr>\n",
       "    <tr>\n",
       "      <td>5</td>\n",
       "      <td>蔡卓雅</td>\n",
       "      <td>大数据管理与应用</td>\n",
       "      <td>200010</td>\n",
       "      <td>江苏省</td>\n",
       "      <td>女</td>\n",
       "      <td>蔡</td>\n",
       "      <td>20</td>\n",
       "    </tr>\n",
       "    <tr>\n",
       "      <td>6</td>\n",
       "      <td>丁美晨</td>\n",
       "      <td>大数据管理与应用</td>\n",
       "      <td>200103</td>\n",
       "      <td>北京市</td>\n",
       "      <td>女</td>\n",
       "      <td>丁</td>\n",
       "      <td>20</td>\n",
       "    </tr>\n",
       "    <tr>\n",
       "      <td>7</td>\n",
       "      <td>富曼婷</td>\n",
       "      <td>大数据管理与应用</td>\n",
       "      <td>200104</td>\n",
       "      <td>北京市</td>\n",
       "      <td>女</td>\n",
       "      <td>富</td>\n",
       "      <td>20</td>\n",
       "    </tr>\n",
       "    <tr>\n",
       "      <td>8</td>\n",
       "      <td>侯叶馨</td>\n",
       "      <td>大数据管理与应用</td>\n",
       "      <td>200101</td>\n",
       "      <td>北京市</td>\n",
       "      <td>女</td>\n",
       "      <td>侯</td>\n",
       "      <td>20</td>\n",
       "    </tr>\n",
       "    <tr>\n",
       "      <td>9</td>\n",
       "      <td>胡昕茹</td>\n",
       "      <td>大数据管理与应用</td>\n",
       "      <td>200103</td>\n",
       "      <td>河北省</td>\n",
       "      <td>女</td>\n",
       "      <td>胡</td>\n",
       "      <td>20</td>\n",
       "    </tr>\n",
       "    <tr>\n",
       "      <td>10</td>\n",
       "      <td>李睿慧</td>\n",
       "      <td>大数据管理与应用</td>\n",
       "      <td>200008</td>\n",
       "      <td>北京市</td>\n",
       "      <td>女</td>\n",
       "      <td>李</td>\n",
       "      <td>20</td>\n",
       "    </tr>\n",
       "    <tr>\n",
       "      <td>11</td>\n",
       "      <td>孙海睿</td>\n",
       "      <td>大数据管理与应用</td>\n",
       "      <td>200107</td>\n",
       "      <td>北京市</td>\n",
       "      <td>女</td>\n",
       "      <td>孙</td>\n",
       "      <td>20</td>\n",
       "    </tr>\n",
       "    <tr>\n",
       "      <td>12</td>\n",
       "      <td>夏昕</td>\n",
       "      <td>大数据管理与应用</td>\n",
       "      <td>200101</td>\n",
       "      <td>北京市</td>\n",
       "      <td>女</td>\n",
       "      <td>夏</td>\n",
       "      <td>20</td>\n",
       "    </tr>\n",
       "    <tr>\n",
       "      <td>13</td>\n",
       "      <td>许元珺</td>\n",
       "      <td>大数据管理与应用</td>\n",
       "      <td>200011</td>\n",
       "      <td>贵州省</td>\n",
       "      <td>女</td>\n",
       "      <td>许</td>\n",
       "      <td>20</td>\n",
       "    </tr>\n",
       "    <tr>\n",
       "      <td>14</td>\n",
       "      <td>高斯贤</td>\n",
       "      <td>大数据管理与应用</td>\n",
       "      <td>200006</td>\n",
       "      <td>北京市</td>\n",
       "      <td>男</td>\n",
       "      <td>高</td>\n",
       "      <td>20</td>\n",
       "    </tr>\n",
       "    <tr>\n",
       "      <td>15</td>\n",
       "      <td>李浩然</td>\n",
       "      <td>大数据管理与应用</td>\n",
       "      <td>200108</td>\n",
       "      <td>北京市</td>\n",
       "      <td>男</td>\n",
       "      <td>李</td>\n",
       "      <td>20</td>\n",
       "    </tr>\n",
       "    <tr>\n",
       "      <td>16</td>\n",
       "      <td>李宏伟</td>\n",
       "      <td>大数据管理与应用</td>\n",
       "      <td>200011</td>\n",
       "      <td>辽宁省</td>\n",
       "      <td>男</td>\n",
       "      <td>李</td>\n",
       "      <td>20</td>\n",
       "    </tr>\n",
       "    <tr>\n",
       "      <td>17</td>\n",
       "      <td>李思哲</td>\n",
       "      <td>大数据管理与应用</td>\n",
       "      <td>200011</td>\n",
       "      <td>北京市</td>\n",
       "      <td>男</td>\n",
       "      <td>李</td>\n",
       "      <td>20</td>\n",
       "    </tr>\n",
       "    <tr>\n",
       "      <td>18</td>\n",
       "      <td>李燮文</td>\n",
       "      <td>大数据管理与应用</td>\n",
       "      <td>200009</td>\n",
       "      <td>北京市</td>\n",
       "      <td>男</td>\n",
       "      <td>李</td>\n",
       "      <td>20</td>\n",
       "    </tr>\n",
       "    <tr>\n",
       "      <td>19</td>\n",
       "      <td>宋建威</td>\n",
       "      <td>大数据管理与应用</td>\n",
       "      <td>200109</td>\n",
       "      <td>辽宁省</td>\n",
       "      <td>男</td>\n",
       "      <td>宋</td>\n",
       "      <td>20</td>\n",
       "    </tr>\n",
       "    <tr>\n",
       "      <td>20</td>\n",
       "      <td>王雨萌</td>\n",
       "      <td>大数据管理与应用</td>\n",
       "      <td>200009</td>\n",
       "      <td>北京市</td>\n",
       "      <td>男</td>\n",
       "      <td>王</td>\n",
       "      <td>20</td>\n",
       "    </tr>\n",
       "    <tr>\n",
       "      <td>21</td>\n",
       "      <td>杨溢</td>\n",
       "      <td>大数据管理与应用</td>\n",
       "      <td>200108</td>\n",
       "      <td>北京市</td>\n",
       "      <td>男</td>\n",
       "      <td>杨</td>\n",
       "      <td>20</td>\n",
       "    </tr>\n",
       "    <tr>\n",
       "      <td>22</td>\n",
       "      <td>要宏宇</td>\n",
       "      <td>大数据管理与应用</td>\n",
       "      <td>200012</td>\n",
       "      <td>北京市</td>\n",
       "      <td>男</td>\n",
       "      <td>要</td>\n",
       "      <td>20</td>\n",
       "    </tr>\n",
       "    <tr>\n",
       "      <td>23</td>\n",
       "      <td>叶泽生</td>\n",
       "      <td>大数据管理与应用</td>\n",
       "      <td>200008</td>\n",
       "      <td>甘肃省</td>\n",
       "      <td>男</td>\n",
       "      <td>叶</td>\n",
       "      <td>20</td>\n",
       "    </tr>\n",
       "    <tr>\n",
       "      <td>24</td>\n",
       "      <td>张宏军</td>\n",
       "      <td>大数据管理与应用</td>\n",
       "      <td>199912</td>\n",
       "      <td>甘肃省</td>\n",
       "      <td>男</td>\n",
       "      <td>张</td>\n",
       "      <td>20</td>\n",
       "    </tr>\n",
       "    <tr>\n",
       "      <td>25</td>\n",
       "      <td>张凌峰</td>\n",
       "      <td>大数据管理与应用</td>\n",
       "      <td>200010</td>\n",
       "      <td>北京市</td>\n",
       "      <td>男</td>\n",
       "      <td>张</td>\n",
       "      <td>20</td>\n",
       "    </tr>\n",
       "    <tr>\n",
       "      <td>26</td>\n",
       "      <td>郑子瑜</td>\n",
       "      <td>大数据管理与应用</td>\n",
       "      <td>200108</td>\n",
       "      <td>北京市</td>\n",
       "      <td>男</td>\n",
       "      <td>郑</td>\n",
       "      <td>20</td>\n",
       "    </tr>\n",
       "    <tr>\n",
       "      <td>27</td>\n",
       "      <td>周锦建</td>\n",
       "      <td>大数据管理与应用</td>\n",
       "      <td>200005</td>\n",
       "      <td>贵州省</td>\n",
       "      <td>男</td>\n",
       "      <td>周</td>\n",
       "      <td>20</td>\n",
       "    </tr>\n",
       "    <tr>\n",
       "      <td>28</td>\n",
       "      <td>周祖豪</td>\n",
       "      <td>大数据管理与应用</td>\n",
       "      <td>200011</td>\n",
       "      <td>江西省</td>\n",
       "      <td>男</td>\n",
       "      <td>周</td>\n",
       "      <td>20</td>\n",
       "    </tr>\n",
       "    <tr>\n",
       "      <td>29</td>\n",
       "      <td>朱信奇</td>\n",
       "      <td>大数据管理与应用</td>\n",
       "      <td>200107</td>\n",
       "      <td>江西省</td>\n",
       "      <td>男</td>\n",
       "      <td>朱</td>\n",
       "      <td>20</td>\n",
       "    </tr>\n",
       "    <tr>\n",
       "      <td>30</td>\n",
       "      <td>黄玉龙</td>\n",
       "      <td>大数据管理与应用</td>\n",
       "      <td>199905</td>\n",
       "      <td>安徽省</td>\n",
       "      <td>男</td>\n",
       "      <td>黄</td>\n",
       "      <td>20</td>\n",
       "    </tr>\n",
       "  </tbody>\n",
       "</table>\n",
       "</div>"
      ],
      "text/plain": [
       "     姓名        专业    出生年月   籍贯 性别  姓  age\n",
       "0   朱珺阳  大数据管理与应用  200003  北京市  男  朱   20\n",
       "1    霍頔  大数据管理与应用  200003  北京市  男  霍   20\n",
       "2   张禹欣  大数据管理与应用  200009  北京市  女  张   20\n",
       "3    王洋  大数据管理与应用  200102  山西省  男  王   20\n",
       "4   周进魁  大数据管理与应用  200106  河南省  男  周   20\n",
       "5   蔡卓雅  大数据管理与应用  200010  江苏省  女  蔡   20\n",
       "6   丁美晨  大数据管理与应用  200103  北京市  女  丁   20\n",
       "7   富曼婷  大数据管理与应用  200104  北京市  女  富   20\n",
       "8   侯叶馨  大数据管理与应用  200101  北京市  女  侯   20\n",
       "9   胡昕茹  大数据管理与应用  200103  河北省  女  胡   20\n",
       "10  李睿慧  大数据管理与应用  200008  北京市  女  李   20\n",
       "11  孙海睿  大数据管理与应用  200107  北京市  女  孙   20\n",
       "12   夏昕  大数据管理与应用  200101  北京市  女  夏   20\n",
       "13  许元珺  大数据管理与应用  200011  贵州省  女  许   20\n",
       "14  高斯贤  大数据管理与应用  200006  北京市  男  高   20\n",
       "15  李浩然  大数据管理与应用  200108  北京市  男  李   20\n",
       "16  李宏伟  大数据管理与应用  200011  辽宁省  男  李   20\n",
       "17  李思哲  大数据管理与应用  200011  北京市  男  李   20\n",
       "18  李燮文  大数据管理与应用  200009  北京市  男  李   20\n",
       "19  宋建威  大数据管理与应用  200109  辽宁省  男  宋   20\n",
       "20  王雨萌  大数据管理与应用  200009  北京市  男  王   20\n",
       "21   杨溢  大数据管理与应用  200108  北京市  男  杨   20\n",
       "22  要宏宇  大数据管理与应用  200012  北京市  男  要   20\n",
       "23  叶泽生  大数据管理与应用  200008  甘肃省  男  叶   20\n",
       "24  张宏军  大数据管理与应用  199912  甘肃省  男  张   20\n",
       "25  张凌峰  大数据管理与应用  200010  北京市  男  张   20\n",
       "26  郑子瑜  大数据管理与应用  200108  北京市  男  郑   20\n",
       "27  周锦建  大数据管理与应用  200005  贵州省  男  周   20\n",
       "28  周祖豪  大数据管理与应用  200011  江西省  男  周   20\n",
       "29  朱信奇  大数据管理与应用  200107  江西省  男  朱   20\n",
       "30  黄玉龙  大数据管理与应用  199905  安徽省  男  黄   20"
      ]
     },
     "execution_count": 22,
     "metadata": {},
     "output_type": "execute_result"
    }
   ],
   "source": [
    "class_frame"
   ]
  },
  {
   "cell_type": "code",
   "execution_count": 24,
   "metadata": {},
   "outputs": [],
   "source": [
    "from datetime import datetime\n",
    "class_frame['出生年月']=class_frame['出生年月'].apply(lambda x:datetime.strptime(str(x),\"%Y%m\"))"
   ]
  },
  {
   "cell_type": "code",
   "execution_count": 25,
   "metadata": {},
   "outputs": [
    {
     "name": "stdout",
     "output_type": "stream",
     "text": [
      "<class 'pandas.core.frame.DataFrame'>\n",
      "RangeIndex: 31 entries, 0 to 30\n",
      "Data columns (total 7 columns):\n",
      "姓名      31 non-null object\n",
      "专业      31 non-null object\n",
      "出生年月    31 non-null datetime64[ns]\n",
      "籍贯      31 non-null object\n",
      "性别      31 non-null object\n",
      "姓       31 non-null object\n",
      "age     31 non-null int64\n",
      "dtypes: datetime64[ns](1), int64(1), object(5)\n",
      "memory usage: 1.8+ KB\n"
     ]
    }
   ],
   "source": [
    "class_frame.info()"
   ]
  },
  {
   "cell_type": "code",
   "execution_count": 26,
   "metadata": {},
   "outputs": [],
   "source": [
    "class_frame['age']=datetime.today().year-class_frame['出生年月'].apply(lambda x:x.year)"
   ]
  },
  {
   "cell_type": "code",
   "execution_count": 30,
   "metadata": {},
   "outputs": [
    {
     "data": {
      "text/html": [
       "<div>\n",
       "<style scoped>\n",
       "    .dataframe tbody tr th:only-of-type {\n",
       "        vertical-align: middle;\n",
       "    }\n",
       "\n",
       "    .dataframe tbody tr th {\n",
       "        vertical-align: top;\n",
       "    }\n",
       "\n",
       "    .dataframe thead th {\n",
       "        text-align: right;\n",
       "    }\n",
       "</style>\n",
       "<table border=\"1\" class=\"dataframe\">\n",
       "  <thead>\n",
       "    <tr style=\"text-align: right;\">\n",
       "      <th></th>\n",
       "      <th>姓名</th>\n",
       "      <th>专业</th>\n",
       "      <th>出生年月</th>\n",
       "      <th>籍贯</th>\n",
       "      <th>性别</th>\n",
       "      <th>姓</th>\n",
       "      <th>age</th>\n",
       "    </tr>\n",
       "  </thead>\n",
       "  <tbody>\n",
       "    <tr>\n",
       "      <td>0</td>\n",
       "      <td>朱珺阳</td>\n",
       "      <td>大数据管理与应用</td>\n",
       "      <td>2000-03-01</td>\n",
       "      <td>北京市</td>\n",
       "      <td>男</td>\n",
       "      <td>朱</td>\n",
       "      <td>20</td>\n",
       "    </tr>\n",
       "    <tr>\n",
       "      <td>1</td>\n",
       "      <td>霍頔</td>\n",
       "      <td>大数据管理与应用</td>\n",
       "      <td>2000-03-01</td>\n",
       "      <td>北京市</td>\n",
       "      <td>男</td>\n",
       "      <td>霍</td>\n",
       "      <td>20</td>\n",
       "    </tr>\n",
       "    <tr>\n",
       "      <td>2</td>\n",
       "      <td>张禹欣</td>\n",
       "      <td>大数据管理与应用</td>\n",
       "      <td>2000-09-01</td>\n",
       "      <td>北京市</td>\n",
       "      <td>女</td>\n",
       "      <td>张</td>\n",
       "      <td>20</td>\n",
       "    </tr>\n",
       "    <tr>\n",
       "      <td>3</td>\n",
       "      <td>王洋</td>\n",
       "      <td>大数据管理与应用</td>\n",
       "      <td>2001-02-01</td>\n",
       "      <td>山西省</td>\n",
       "      <td>男</td>\n",
       "      <td>王</td>\n",
       "      <td>19</td>\n",
       "    </tr>\n",
       "    <tr>\n",
       "      <td>4</td>\n",
       "      <td>周进魁</td>\n",
       "      <td>大数据管理与应用</td>\n",
       "      <td>2001-06-01</td>\n",
       "      <td>河南省</td>\n",
       "      <td>男</td>\n",
       "      <td>周</td>\n",
       "      <td>19</td>\n",
       "    </tr>\n",
       "    <tr>\n",
       "      <td>5</td>\n",
       "      <td>蔡卓雅</td>\n",
       "      <td>大数据管理与应用</td>\n",
       "      <td>2000-10-01</td>\n",
       "      <td>江苏省</td>\n",
       "      <td>女</td>\n",
       "      <td>蔡</td>\n",
       "      <td>20</td>\n",
       "    </tr>\n",
       "    <tr>\n",
       "      <td>6</td>\n",
       "      <td>丁美晨</td>\n",
       "      <td>大数据管理与应用</td>\n",
       "      <td>2001-03-01</td>\n",
       "      <td>北京市</td>\n",
       "      <td>女</td>\n",
       "      <td>丁</td>\n",
       "      <td>19</td>\n",
       "    </tr>\n",
       "    <tr>\n",
       "      <td>7</td>\n",
       "      <td>富曼婷</td>\n",
       "      <td>大数据管理与应用</td>\n",
       "      <td>2001-04-01</td>\n",
       "      <td>北京市</td>\n",
       "      <td>女</td>\n",
       "      <td>富</td>\n",
       "      <td>19</td>\n",
       "    </tr>\n",
       "    <tr>\n",
       "      <td>8</td>\n",
       "      <td>侯叶馨</td>\n",
       "      <td>大数据管理与应用</td>\n",
       "      <td>2001-01-01</td>\n",
       "      <td>北京市</td>\n",
       "      <td>女</td>\n",
       "      <td>侯</td>\n",
       "      <td>19</td>\n",
       "    </tr>\n",
       "    <tr>\n",
       "      <td>9</td>\n",
       "      <td>胡昕茹</td>\n",
       "      <td>大数据管理与应用</td>\n",
       "      <td>2001-03-01</td>\n",
       "      <td>河北省</td>\n",
       "      <td>女</td>\n",
       "      <td>胡</td>\n",
       "      <td>19</td>\n",
       "    </tr>\n",
       "    <tr>\n",
       "      <td>10</td>\n",
       "      <td>李睿慧</td>\n",
       "      <td>大数据管理与应用</td>\n",
       "      <td>2000-08-01</td>\n",
       "      <td>北京市</td>\n",
       "      <td>女</td>\n",
       "      <td>李</td>\n",
       "      <td>20</td>\n",
       "    </tr>\n",
       "    <tr>\n",
       "      <td>11</td>\n",
       "      <td>孙海睿</td>\n",
       "      <td>大数据管理与应用</td>\n",
       "      <td>2001-07-01</td>\n",
       "      <td>北京市</td>\n",
       "      <td>女</td>\n",
       "      <td>孙</td>\n",
       "      <td>19</td>\n",
       "    </tr>\n",
       "    <tr>\n",
       "      <td>12</td>\n",
       "      <td>夏昕</td>\n",
       "      <td>大数据管理与应用</td>\n",
       "      <td>2001-01-01</td>\n",
       "      <td>北京市</td>\n",
       "      <td>女</td>\n",
       "      <td>夏</td>\n",
       "      <td>19</td>\n",
       "    </tr>\n",
       "    <tr>\n",
       "      <td>13</td>\n",
       "      <td>许元珺</td>\n",
       "      <td>大数据管理与应用</td>\n",
       "      <td>2000-11-01</td>\n",
       "      <td>贵州省</td>\n",
       "      <td>女</td>\n",
       "      <td>许</td>\n",
       "      <td>20</td>\n",
       "    </tr>\n",
       "    <tr>\n",
       "      <td>14</td>\n",
       "      <td>高斯贤</td>\n",
       "      <td>大数据管理与应用</td>\n",
       "      <td>2000-06-01</td>\n",
       "      <td>北京市</td>\n",
       "      <td>男</td>\n",
       "      <td>高</td>\n",
       "      <td>20</td>\n",
       "    </tr>\n",
       "    <tr>\n",
       "      <td>15</td>\n",
       "      <td>李浩然</td>\n",
       "      <td>大数据管理与应用</td>\n",
       "      <td>2001-08-01</td>\n",
       "      <td>北京市</td>\n",
       "      <td>男</td>\n",
       "      <td>李</td>\n",
       "      <td>19</td>\n",
       "    </tr>\n",
       "    <tr>\n",
       "      <td>16</td>\n",
       "      <td>李宏伟</td>\n",
       "      <td>大数据管理与应用</td>\n",
       "      <td>2000-11-01</td>\n",
       "      <td>辽宁省</td>\n",
       "      <td>男</td>\n",
       "      <td>李</td>\n",
       "      <td>20</td>\n",
       "    </tr>\n",
       "    <tr>\n",
       "      <td>17</td>\n",
       "      <td>李思哲</td>\n",
       "      <td>大数据管理与应用</td>\n",
       "      <td>2000-11-01</td>\n",
       "      <td>北京市</td>\n",
       "      <td>男</td>\n",
       "      <td>李</td>\n",
       "      <td>20</td>\n",
       "    </tr>\n",
       "    <tr>\n",
       "      <td>18</td>\n",
       "      <td>李燮文</td>\n",
       "      <td>大数据管理与应用</td>\n",
       "      <td>2000-09-01</td>\n",
       "      <td>北京市</td>\n",
       "      <td>男</td>\n",
       "      <td>李</td>\n",
       "      <td>20</td>\n",
       "    </tr>\n",
       "    <tr>\n",
       "      <td>19</td>\n",
       "      <td>宋建威</td>\n",
       "      <td>大数据管理与应用</td>\n",
       "      <td>2001-09-01</td>\n",
       "      <td>辽宁省</td>\n",
       "      <td>男</td>\n",
       "      <td>宋</td>\n",
       "      <td>19</td>\n",
       "    </tr>\n",
       "    <tr>\n",
       "      <td>20</td>\n",
       "      <td>王雨萌</td>\n",
       "      <td>大数据管理与应用</td>\n",
       "      <td>2000-09-01</td>\n",
       "      <td>北京市</td>\n",
       "      <td>男</td>\n",
       "      <td>王</td>\n",
       "      <td>20</td>\n",
       "    </tr>\n",
       "    <tr>\n",
       "      <td>21</td>\n",
       "      <td>杨溢</td>\n",
       "      <td>大数据管理与应用</td>\n",
       "      <td>2001-08-01</td>\n",
       "      <td>北京市</td>\n",
       "      <td>男</td>\n",
       "      <td>杨</td>\n",
       "      <td>19</td>\n",
       "    </tr>\n",
       "    <tr>\n",
       "      <td>22</td>\n",
       "      <td>要宏宇</td>\n",
       "      <td>大数据管理与应用</td>\n",
       "      <td>2000-12-01</td>\n",
       "      <td>北京市</td>\n",
       "      <td>男</td>\n",
       "      <td>要</td>\n",
       "      <td>20</td>\n",
       "    </tr>\n",
       "    <tr>\n",
       "      <td>23</td>\n",
       "      <td>叶泽生</td>\n",
       "      <td>大数据管理与应用</td>\n",
       "      <td>2000-08-01</td>\n",
       "      <td>甘肃省</td>\n",
       "      <td>男</td>\n",
       "      <td>叶</td>\n",
       "      <td>20</td>\n",
       "    </tr>\n",
       "    <tr>\n",
       "      <td>24</td>\n",
       "      <td>张宏军</td>\n",
       "      <td>大数据管理与应用</td>\n",
       "      <td>1999-12-01</td>\n",
       "      <td>甘肃省</td>\n",
       "      <td>男</td>\n",
       "      <td>张</td>\n",
       "      <td>21</td>\n",
       "    </tr>\n",
       "    <tr>\n",
       "      <td>25</td>\n",
       "      <td>张凌峰</td>\n",
       "      <td>大数据管理与应用</td>\n",
       "      <td>2000-10-01</td>\n",
       "      <td>北京市</td>\n",
       "      <td>男</td>\n",
       "      <td>张</td>\n",
       "      <td>20</td>\n",
       "    </tr>\n",
       "    <tr>\n",
       "      <td>26</td>\n",
       "      <td>郑子瑜</td>\n",
       "      <td>大数据管理与应用</td>\n",
       "      <td>2001-08-01</td>\n",
       "      <td>北京市</td>\n",
       "      <td>男</td>\n",
       "      <td>郑</td>\n",
       "      <td>19</td>\n",
       "    </tr>\n",
       "    <tr>\n",
       "      <td>27</td>\n",
       "      <td>周锦建</td>\n",
       "      <td>大数据管理与应用</td>\n",
       "      <td>2000-05-01</td>\n",
       "      <td>贵州省</td>\n",
       "      <td>男</td>\n",
       "      <td>周</td>\n",
       "      <td>20</td>\n",
       "    </tr>\n",
       "    <tr>\n",
       "      <td>28</td>\n",
       "      <td>周祖豪</td>\n",
       "      <td>大数据管理与应用</td>\n",
       "      <td>2000-11-01</td>\n",
       "      <td>江西省</td>\n",
       "      <td>男</td>\n",
       "      <td>周</td>\n",
       "      <td>20</td>\n",
       "    </tr>\n",
       "    <tr>\n",
       "      <td>29</td>\n",
       "      <td>朱信奇</td>\n",
       "      <td>大数据管理与应用</td>\n",
       "      <td>2001-07-01</td>\n",
       "      <td>江西省</td>\n",
       "      <td>男</td>\n",
       "      <td>朱</td>\n",
       "      <td>19</td>\n",
       "    </tr>\n",
       "    <tr>\n",
       "      <td>30</td>\n",
       "      <td>黄玉龙</td>\n",
       "      <td>大数据管理与应用</td>\n",
       "      <td>1999-05-01</td>\n",
       "      <td>安徽省</td>\n",
       "      <td>男</td>\n",
       "      <td>黄</td>\n",
       "      <td>21</td>\n",
       "    </tr>\n",
       "  </tbody>\n",
       "</table>\n",
       "</div>"
      ],
      "text/plain": [
       "     姓名        专业       出生年月   籍贯 性别  姓  age\n",
       "0   朱珺阳  大数据管理与应用 2000-03-01  北京市  男  朱   20\n",
       "1    霍頔  大数据管理与应用 2000-03-01  北京市  男  霍   20\n",
       "2   张禹欣  大数据管理与应用 2000-09-01  北京市  女  张   20\n",
       "3    王洋  大数据管理与应用 2001-02-01  山西省  男  王   19\n",
       "4   周进魁  大数据管理与应用 2001-06-01  河南省  男  周   19\n",
       "5   蔡卓雅  大数据管理与应用 2000-10-01  江苏省  女  蔡   20\n",
       "6   丁美晨  大数据管理与应用 2001-03-01  北京市  女  丁   19\n",
       "7   富曼婷  大数据管理与应用 2001-04-01  北京市  女  富   19\n",
       "8   侯叶馨  大数据管理与应用 2001-01-01  北京市  女  侯   19\n",
       "9   胡昕茹  大数据管理与应用 2001-03-01  河北省  女  胡   19\n",
       "10  李睿慧  大数据管理与应用 2000-08-01  北京市  女  李   20\n",
       "11  孙海睿  大数据管理与应用 2001-07-01  北京市  女  孙   19\n",
       "12   夏昕  大数据管理与应用 2001-01-01  北京市  女  夏   19\n",
       "13  许元珺  大数据管理与应用 2000-11-01  贵州省  女  许   20\n",
       "14  高斯贤  大数据管理与应用 2000-06-01  北京市  男  高   20\n",
       "15  李浩然  大数据管理与应用 2001-08-01  北京市  男  李   19\n",
       "16  李宏伟  大数据管理与应用 2000-11-01  辽宁省  男  李   20\n",
       "17  李思哲  大数据管理与应用 2000-11-01  北京市  男  李   20\n",
       "18  李燮文  大数据管理与应用 2000-09-01  北京市  男  李   20\n",
       "19  宋建威  大数据管理与应用 2001-09-01  辽宁省  男  宋   19\n",
       "20  王雨萌  大数据管理与应用 2000-09-01  北京市  男  王   20\n",
       "21   杨溢  大数据管理与应用 2001-08-01  北京市  男  杨   19\n",
       "22  要宏宇  大数据管理与应用 2000-12-01  北京市  男  要   20\n",
       "23  叶泽生  大数据管理与应用 2000-08-01  甘肃省  男  叶   20\n",
       "24  张宏军  大数据管理与应用 1999-12-01  甘肃省  男  张   21\n",
       "25  张凌峰  大数据管理与应用 2000-10-01  北京市  男  张   20\n",
       "26  郑子瑜  大数据管理与应用 2001-08-01  北京市  男  郑   19\n",
       "27  周锦建  大数据管理与应用 2000-05-01  贵州省  男  周   20\n",
       "28  周祖豪  大数据管理与应用 2000-11-01  江西省  男  周   20\n",
       "29  朱信奇  大数据管理与应用 2001-07-01  江西省  男  朱   19\n",
       "30  黄玉龙  大数据管理与应用 1999-05-01  安徽省  男  黄   21"
      ]
     },
     "execution_count": 30,
     "metadata": {},
     "output_type": "execute_result"
    }
   ],
   "source": [
    "class_frame"
   ]
  },
  {
   "cell_type": "code",
   "execution_count": 27,
   "metadata": {},
   "outputs": [
    {
     "name": "stderr",
     "output_type": "stream",
     "text": [
      "/Users/lili/opt/anaconda3/lib/python3.7/site-packages/ipykernel_launcher.py:1: FutureWarning: `Series.plot()` should not be called with positional arguments, only keyword arguments. The order of positional arguments will change in the future. Use `Series.plot(kind='bar')` instead of `Series.plot('bar',)`.\n",
      "  \"\"\"Entry point for launching an IPython kernel.\n"
     ]
    },
    {
     "data": {
      "text/plain": [
       "<matplotlib.axes._subplots.AxesSubplot at 0x7fc9868e3990>"
      ]
     },
     "execution_count": 27,
     "metadata": {},
     "output_type": "execute_result"
    },
    {
     "data": {
      "image/png": "[encoded data removed]",
      "text/plain": [
       "<Figure size 432x288 with 1 Axes>"
      ]
     },
     "metadata": {
      "needs_background": "light"
     },
     "output_type": "display_data"
    }
   ],
   "source": [
    "class_frame['age'].value_counts().plot(\"bar\")"
   ]
  },
  {
   "cell_type": "code",
   "execution_count": null,
   "metadata": {},
   "outputs": [],
   "source": [
    "datetime.today().year"
   ]
  }
 ],
 "metadata": {
  "kernelspec": {
   "display_name": "Python 3",
   "language": "python",
   "name": "python3"
  },
  "language_info": {
   "codemirror_mode": {
    "name": "ipython",
    "version": 3
   },
   "file_extension": ".py",
   "mimetype": "text/x-python",
   "name": "python",
   "nbconvert_exporter": "python",
   "pygments_lexer": "ipython3",
   "version": "3.7.4"
  },
  "toc": {
   "base_numbering": 1,
   "nav_menu": {},
   "number_sections": true,
   "sideBar": true,
   "skip_h1_title": false,
   "title_cell": "Table of Contents",
   "title_sidebar": "Contents",
   "toc_cell": false,
   "toc_position": {},
   "toc_section_display": true,
   "toc_window_display": false
  },
  "varInspector": {
   "cols": {
    "lenName": 16,
    "lenType": 16,
    "lenVar": 40
   },
   "kernels_config": {
    "python": {
     "delete_cmd_postfix": "",
     "delete_cmd_prefix": "del ",
     "library": "var_list.py",
     "varRefreshCmd": "print(var_dic_list())"
    },
    "r": {
     "delete_cmd_postfix": ") ",
     "delete_cmd_prefix": "rm(",
     "library": "var_list.r",
     "varRefreshCmd": "cat(var_dic_list()) "
    }
   },
   "types_to_exclude": [
    "module",
    "function",
    "builtin_function_or_method",
    "instance",
    "_Feature"
   ],
   "window_display": false
  }
 },
 "nbformat": 4,
 "nbformat_minor": 2
}
